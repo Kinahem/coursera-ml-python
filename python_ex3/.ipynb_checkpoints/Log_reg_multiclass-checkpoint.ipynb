{
 "cells": [
  {
   "cell_type": "code",
   "execution_count": 1,
   "metadata": {
    "ExecuteTime": {
     "end_time": "2020-03-03T12:14:00.336232Z",
     "start_time": "2020-03-03T12:14:00.059790Z"
    }
   },
   "outputs": [],
   "source": [
    "import numpy as np\n",
    "import matplotlib.pyplot as plt\n",
    "from scipy.optimize import minimize\n",
    "import scipy.io as sio"
   ]
  },
  {
   "cell_type": "code",
   "execution_count": 3,
   "metadata": {
    "ExecuteTime": {
     "end_time": "2020-03-03T12:14:08.341290Z",
     "start_time": "2020-03-03T12:14:07.453073Z"
    }
   },
   "outputs": [
    {
     "name": "stdout",
     "output_type": "stream",
     "text": [
      "dict_keys(['__header__', '__version__', '__globals__', 'X', 'y'])\n"
     ]
    }
   ],
   "source": [
    "data_path = \"ex3data1.mat\"\n",
    "data = sio.loadmat(data_path)\n",
    "print(data.keys())"
   ]
  },
  {
   "cell_type": "code",
   "execution_count": 53,
   "metadata": {},
   "outputs": [
    {
     "name": "stdout",
     "output_type": "stream",
     "text": [
      "(5000, 400)\n",
      "(5000, 1)\n"
     ]
    }
   ],
   "source": [
    "X = data['X']\n",
    "y = data['y']\n",
    "m = y.shape[0]\n",
    "print(X.shape)\n",
    "print(y.shape)"
   ]
  },
  {
   "cell_type": "code",
   "execution_count": 54,
   "metadata": {},
   "outputs": [
    {
     "data": {
      "image/png": "[encoded data removed]",
      "text/plain": [
       "<Figure size 1080x576 with 25 Axes>"
      ]
     },
     "metadata": {
      "needs_background": "light"
     },
     "output_type": "display_data"
    }
   ],
   "source": [
    "def display_data(data, width):\n",
    "    plt.figure(figsize=(15,8))\n",
    "    plt.subplots_adjust(top=1.1, right=0.8, left=0.1)\n",
    "    snum = np.sqrt(data.shape[0])\n",
    "    for i, im_data in enumerate(data):\n",
    "        plt.subplot(snum, snum, i+1)\n",
    "        plt.axis('off')\n",
    "        image = data[i].reshape((20, 20), order='F') #order like in fortran, nice\n",
    "        plt.imshow(image,'gist_heat')\n",
    "      \n",
    "    plt.show()\n",
    "\n",
    "#np.random.seed(42)\n",
    "rand_indices = np.random.randint(5000, size=25)\n",
    "display_data(X[rand_indices], 20)"
   ]
  },
  {
   "cell_type": "code",
   "execution_count": 55,
   "metadata": {},
   "outputs": [
    {
     "data": {
      "text/plain": [
       "array([[0.5       , 0.73105858, 0.88079708],\n",
       "       [0.5       , 0.26894142, 0.11920292]])"
      ]
     },
     "execution_count": 55,
     "metadata": {},
     "output_type": "execute_result"
    }
   ],
   "source": [
    "def sigmoid(z):\n",
    "    return 1/(1 + np.exp(-z))\n",
    "\n",
    "sigmoid(np.array([[0, 1, 2],[0, -1, -2]]))"
   ]
  },
  {
   "cell_type": "code",
   "execution_count": 56,
   "metadata": {},
   "outputs": [],
   "source": [
    "def cost_func(theta, X, y, lamb):  \n",
    "    m = y.shape[0]\n",
    "    inner_theta = theta #np.expand_dims(theta, axis=1) #for J, not for h\n",
    "    h = sigmoid(X @ inner_theta)\n",
    "    J = (1/m) * (np.dot((-y.T), np.log(h)) - np.dot((1-y.T), np.log(1-h)))\n",
    "    reg_J = J + (lamb/(2*m))*np.dot(inner_theta[1:].T, inner_theta[1:])    \n",
    "    return reg_J\n",
    "\n",
    "def grad_func(theta, X, y, lamb):\n",
    "    m = y.shape[0]\n",
    "    inner_theta = theta #np.expand_dims(theta, axis=1)\n",
    "    h = sigmoid(X @ inner_theta)\n",
    "    grad = 1/m * np.dot((h-y).T, X).T #(X.transpose() @ (h - y))  \n",
    "    #grad = (1/m) * np.dot(h.T-y, X).T #check this part in log_reg, this is SHIT\n",
    "    grad[1:] += (lamb/m) * inner_theta[1:]\n",
    "    return grad"
   ]
  },
  {
   "cell_type": "code",
   "execution_count": 57,
   "metadata": {},
   "outputs": [],
   "source": [
    "theta_t = np.array([-2, -1, 1, 2])\n",
    "X_t = np.arange(1,16).reshape((5, 3), order=\"F\")\n",
    "X_t = np.hstack((np.ones((5,1)), X_t/10))\n",
    "y_t = np.array([1,0,1,0,1])\n",
    "lambda_t = 3"
   ]
  },
  {
   "cell_type": "code",
   "execution_count": 58,
   "metadata": {},
   "outputs": [
    {
     "name": "stdout",
     "output_type": "stream",
     "text": [
      "Cost: 2.534819396109744 | Expected cost: 2.534819\n",
      "\n",
      "Gradients:\t [ 0.14656137 -0.54855841  0.72472227  1.39800296]\n",
      "Expected gradients: [ 0.146561  -0.548558  0.724722  1.398003]\n"
     ]
    }
   ],
   "source": [
    "J = cost_func(theta_t, X_t, y_t, lambda_t)\n",
    "grad = grad_func(theta_t, X_t, y_t, lambda_t)\n",
    "np.set_printoptions(precision=8)\n",
    "print(\"Cost: {} | Expected cost: 2.534819\\n\".format(J))\n",
    "print(\"Gradients:\\t\", grad)\n",
    "print(\"Expected gradients: [ 0.146561  -0.548558  0.724722  1.398003]\")"
   ]
  },
  {
   "cell_type": "code",
   "execution_count": 59,
   "metadata": {},
   "outputs": [],
   "source": [
    "def gradient_descent(X, y, theta, alpha, num_iters, lamb):\n",
    "    m=len(y)\n",
    "    J_history = []\n",
    "    \n",
    "    for i in range(num_iters):\n",
    "        cost = cost_func(theta, X, y, lamb)   \n",
    "        grad = grad_func(theta, X, y, lamb)\n",
    "        theta = theta - (alpha * grad)\n",
    "        J_history.append(cost)\n",
    "    \n",
    "    return theta, J_history"
   ]
  },
  {
   "cell_type": "code",
   "execution_count": 60,
   "metadata": {},
   "outputs": [],
   "source": [
    "def one_vs_all(X, y, num_labels, lamb):\n",
    "    m, n = X.shape[0], X.shape[1]\n",
    "    all_theta = []\n",
    "    all_J=[]\n",
    "    initial_theta = np.zeros((n+1, 1))\n",
    "    X = np.hstack((np.ones((m,1)),X))\n",
    "    for i in range(1,num_labels+1):\n",
    "        theta, J_history = gradient_descent(X, np.where(y==i,1,0), initial_theta, \n",
    "                                            1, 300, lamb)\n",
    "        all_theta.extend(theta)\n",
    "        all_J.extend(J_history)\n",
    "        \n",
    "    return np.array(all_theta).reshape(num_labels,n+1), all_J"
   ]
  },
  {
   "cell_type": "code",
   "execution_count": 61,
   "metadata": {},
   "outputs": [],
   "source": [
    "lamb = 0.1\n",
    "rand_indices = np.random.randint(5000, size=1000)\n",
    "all_theta, all_J = one_vs_all(X, y, 10, lamb)"
   ]
  },
  {
   "cell_type": "code",
   "execution_count": 62,
   "metadata": {},
   "outputs": [
    {
     "data": {
      "text/plain": [
       "(10, 401)"
      ]
     },
     "execution_count": 62,
     "metadata": {},
     "output_type": "execute_result"
    }
   ],
   "source": [
    "all_theta.shape"
   ]
  },
  {
   "cell_type": "code",
   "execution_count": 63,
   "metadata": {},
   "outputs": [],
   "source": [
    "def predict(X, all_theta):\n",
    "    m = X.shape[0]\n",
    "    X = np.hstack((np.ones([m,1]), X))\n",
    "    z = X.dot(all_theta.T)\n",
    "    h = sigmoid(z)\n",
    "    pred = np.argmax(h, axis=1)\n",
    "    pred = pred + 1\n",
    "    return pred"
   ]
  },
  {
   "cell_type": "code",
   "execution_count": 64,
   "metadata": {},
   "outputs": [],
   "source": [
    "pred = predict(X, all_theta)"
   ]
  },
  {
   "cell_type": "code",
   "execution_count": 65,
   "metadata": {},
   "outputs": [
    {
     "name": "stdout",
     "output_type": "stream",
     "text": [
      "acc:  0.9146\n"
     ]
    }
   ],
   "source": [
    "print(\"acc: \", np.count_nonzero(pred == y[:,0])/m)"
   ]
  },
  {
   "cell_type": "code",
   "execution_count": null,
   "metadata": {},
   "outputs": [],
   "source": []
  }
 ],
 "metadata": {
  "kernelspec": {
   "display_name": "Python 3",
   "language": "python",
   "name": "python3"
  },
  "language_info": {
   "codemirror_mode": {
    "name": "ipython",
    "version": 3
   },
   "file_extension": ".py",
   "mimetype": "text/x-python",
   "name": "python",
   "nbconvert_exporter": "python",
   "pygments_lexer": "ipython3",
   "version": "3.7.4"
  },
  "toc": {
   "base_numbering": 1,
   "nav_menu": {},
   "number_sections": true,
   "sideBar": true,
   "skip_h1_title": false,
   "title_cell": "Table of Contents",
   "title_sidebar": "Contents",
   "toc_cell": false,
   "toc_position": {},
   "toc_section_display": true,
   "toc_window_display": false
  },
  "varInspector": {
   "cols": {
    "lenName": 16,
    "lenType": 16,
    "lenVar": 40
   },
   "kernels_config": {
    "python": {
     "delete_cmd_postfix": "",
     "delete_cmd_prefix": "del ",
     "library": "var_list.py",
     "varRefreshCmd": "print(var_dic_list())"
    },
    "r": {
     "delete_cmd_postfix": ") ",
     "delete_cmd_prefix": "rm(",
     "library": "var_list.r",
     "varRefreshCmd": "cat(var_dic_list()) "
    }
   },
   "types_to_exclude": [
    "module",
    "function",
    "builtin_function_or_method",
    "instance",
    "_Feature"
   ],
   "window_display": false
  }
 },
 "nbformat": 4,
 "nbformat_minor": 2
}
