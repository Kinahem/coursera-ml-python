{
 "cells": [
  {
   "cell_type": "code",
   "execution_count": 1,
   "metadata": {
    "ExecuteTime": {
     "end_time": "2020-03-04T13:51:37.241371Z",
     "start_time": "2020-03-04T13:51:36.570278Z"
    }
   },
   "outputs": [],
   "source": [
    "import numpy as np\n",
    "import matplotlib.pyplot as plt\n",
    "from jupyterthemes import jtplot\n",
    "jtplot.style()"
   ]
  },
  {
   "cell_type": "code",
   "execution_count": 2,
   "metadata": {
    "ExecuteTime": {
     "end_time": "2020-03-04T13:51:49.517282Z",
     "start_time": "2020-03-04T13:51:49.500785Z"
    }
   },
   "outputs": [
    {
     "name": "stdout",
     "output_type": "stream",
     "text": [
      "dict_keys(['__header__', '__version__', '__globals__', 'X'])\n"
     ]
    }
   ],
   "source": [
    "import scipy.io as sio\n",
    "data_path = 'ex7data1.mat'\n",
    "data = sio.loadmat(data_path)\n",
    "print(data.keys())"
   ]
  },
  {
   "cell_type": "code",
   "execution_count": 6,
   "metadata": {
    "ExecuteTime": {
     "end_time": "2020-03-04T13:56:13.230651Z",
     "start_time": "2020-03-04T13:56:13.084442Z"
    }
   },
   "outputs": [
    {
     "name": "stdout",
     "output_type": "stream",
     "text": [
      "(50, 2)\n"
     ]
    },
    {
     "data": {
      "image/png": "[encoded data removed]",
      "text/plain": [
       "<Figure size 432x288 with 1 Axes>"
      ]
     },
     "metadata": {
      "needs_background": "dark"
     },
     "output_type": "display_data"
    }
   ],
   "source": [
    "plt.rcParams['axes.grid'] = False\n",
    "X = data['X']\n",
    "plt.scatter(X[:,0], X[:,1], c=\"cyan\")\n",
    "print(X.shape)\n",
    "plt.show()"
   ]
  },
  {
   "cell_type": "code",
   "execution_count": 44,
   "metadata": {
    "ExecuteTime": {
     "end_time": "2020-03-04T14:11:53.860341Z",
     "start_time": "2020-03-04T14:11:53.854512Z"
    }
   },
   "outputs": [],
   "source": [
    "def feature_normalize(X):\n",
    "    mu = np.mean(X, axis=0)\n",
    "    sigma = np.std(X, ddof=1, axis=0)\n",
    "    X_norm = (X - mu)/sigma\n",
    "    \n",
    "    return X_norm, mu, sigma"
   ]
  },
  {
   "cell_type": "code",
   "execution_count": 45,
   "metadata": {
    "ExecuteTime": {
     "end_time": "2020-03-04T14:11:54.213402Z",
     "start_time": "2020-03-04T14:11:54.207424Z"
    }
   },
   "outputs": [],
   "source": [
    "def pca(X):\n",
    "    # computing the covariance matrix\n",
    "    sigma = (X.T @ X)/X.shape[0]\n",
    "    U, S, X = np.linalg.svd(sigma)\n",
    "    return U, S"
   ]
  },
  {
   "cell_type": "code",
   "execution_count": 46,
   "metadata": {
    "ExecuteTime": {
     "end_time": "2020-03-04T14:11:54.559531Z",
     "start_time": "2020-03-04T14:11:54.555007Z"
    }
   },
   "outputs": [],
   "source": [
    "X_norm, mu, _ = feature_normalize(X)\n",
    "U, S = pca(X_norm)"
   ]
  },
  {
   "cell_type": "code",
   "execution_count": null,
   "metadata": {
    "ExecuteTime": {
     "end_time": "2020-03-04T14:09:18.922039Z",
     "start_time": "2020-03-04T14:09:18.917481Z"
    }
   },
   "outputs": [],
   "source": []
  },
  {
   "cell_type": "code",
   "execution_count": 68,
   "metadata": {
    "ExecuteTime": {
     "end_time": "2020-03-04T14:47:03.261110Z",
     "start_time": "2020-03-04T14:47:03.116357Z"
    }
   },
   "outputs": [
    {
     "data": {
      "image/png": "[encoded data removed]",
      "text/plain": [
       "<Figure size 432x288 with 1 Axes>"
      ]
     },
     "metadata": {
      "needs_background": "dark"
     },
     "output_type": "display_data"
    }
   ],
   "source": [
    "plt.scatter(X[:,0], X[:,1], c=\"cyan\")\n",
    "# plt.plot([mu[0], mu[0] + 1.5*S[1] * U[0,1]], [mu[1], mu[1] + 1.5*S[1] * U[1,1]], c=\"red\")\n",
    "# plt.plot([mu[0], mu[0] + 1.5*S[0] * U[0,0]], [mu[1], mu[1] + 1.5*S[0] * U[1,0]], c=\"white\")\n",
    "for i in range(2):\n",
    "    plt.arrow(mu[0], mu[1], 1.5 * S[i]*U[0, i], 1.5 * S[i]*U[1, i],\n",
    "             head_width=0.15, head_length=0.15, fc='r', ec='r', lw=2, zorder=1000)\n",
    "plt.show()"
   ]
  },
  {
   "cell_type": "code",
   "execution_count": null,
   "metadata": {
    "ExecuteTime": {
     "end_time": "2020-03-04T14:47:21.448339Z",
     "start_time": "2020-03-04T14:47:21.439549Z"
    }
   },
   "outputs": [],
   "source": []
  },
  {
   "cell_type": "code",
   "execution_count": 79,
   "metadata": {
    "ExecuteTime": {
     "end_time": "2020-03-04T14:55:02.200664Z",
     "start_time": "2020-03-04T14:55:02.038731Z"
    }
   },
   "outputs": [
    {
     "data": {
      "image/png": "[encoded data removed]",
      "text/plain": [
       "<Figure size 432x288 with 1 Axes>"
      ]
     },
     "metadata": {
      "needs_background": "dark"
     },
     "output_type": "display_data"
    }
   ],
   "source": [
    "\n"
   ]
  },
  {
   "cell_type": "code",
   "execution_count": null,
   "metadata": {},
   "outputs": [],
   "source": []
  }
 ],
 "metadata": {
  "kernelspec": {
   "display_name": "Python 3",
   "language": "python",
   "name": "python3"
  },
  "language_info": {
   "codemirror_mode": {
    "name": "ipython",
    "version": 3
   },
   "file_extension": ".py",
   "mimetype": "text/x-python",
   "name": "python",
   "nbconvert_exporter": "python",
   "pygments_lexer": "ipython3",
   "version": "3.7.4"
  },
  "toc": {
   "base_numbering": 1,
   "nav_menu": {},
   "number_sections": true,
   "sideBar": true,
   "skip_h1_title": false,
   "title_cell": "Table of Contents",
   "title_sidebar": "Contents",
   "toc_cell": false,
   "toc_position": {},
   "toc_section_display": true,
   "toc_window_display": false
  },
  "varInspector": {
   "cols": {
    "lenName": 16,
    "lenType": 16,
    "lenVar": 40
   },
   "kernels_config": {
    "python": {
     "delete_cmd_postfix": "",
     "delete_cmd_prefix": "del ",
     "library": "var_list.py",
     "varRefreshCmd": "print(var_dic_list())"
    },
    "r": {
     "delete_cmd_postfix": ") ",
     "delete_cmd_prefix": "rm(",
     "library": "var_list.r",
     "varRefreshCmd": "cat(var_dic_list()) "
    }
   },
   "types_to_exclude": [
    "module",
    "function",
    "builtin_function_or_method",
    "instance",
    "_Feature"
   ],
   "window_display": false
  }
 },
 "nbformat": 4,
 "nbformat_minor": 2
}
