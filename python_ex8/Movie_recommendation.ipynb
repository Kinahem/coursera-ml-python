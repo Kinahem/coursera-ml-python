{
 "cells": [
  {
   "cell_type": "code",
   "execution_count": 75,
   "metadata": {
    "ExecuteTime": {
     "end_time": "2020-03-13T20:16:28.524758Z",
     "start_time": "2020-03-13T20:16:28.518558Z"
    }
   },
   "outputs": [],
   "source": [
    "import numpy as np\n",
    "import matplotlib.pyplot as plt\n",
    "from jupyterthemes import jtplot\n",
    "jtplot.style()"
   ]
  },
  {
   "cell_type": "code",
   "execution_count": 79,
   "metadata": {
    "ExecuteTime": {
     "end_time": "2020-03-13T20:17:31.344381Z",
     "start_time": "2020-03-13T20:17:31.335342Z"
    }
   },
   "outputs": [
    {
     "data": {
      "text/plain": [
       "1682"
      ]
     },
     "execution_count": 79,
     "metadata": {},
     "output_type": "execute_result"
    }
   ],
   "source": [
    "data_path = \"movie_ids.txt\"\n",
    "movies = []\n",
    "with open(data_path, encoding = \"ISO-8859-1\") as file:\n",
    "    for line in file:\n",
    "        movies.append(' '.join(line.split()[1:]))\n",
    "len(movies)"
   ]
  },
  {
   "cell_type": "code",
   "execution_count": 80,
   "metadata": {
    "ExecuteTime": {
     "end_time": "2020-03-13T20:17:31.827453Z",
     "start_time": "2020-03-13T20:17:31.813998Z"
    }
   },
   "outputs": [
    {
     "name": "stdout",
     "output_type": "stream",
     "text": [
      "New user ratings:\n",
      "\n",
      "Toy Story (1995) rated 4.0\n",
      "Shanghai Triad (Yao a yao yao dao waipo qiao) (1995) rated 5.0\n",
      "Twelve Monkeys (1995) rated 3.0\n",
      "Usual Suspects, The (1995) rated 5.0\n",
      "Outbreak (1995) rated 4.0\n",
      "While You Were Sleeping (1995) rated 3.0\n",
      "Forrest Gump (1994) rated 5.0\n",
      "Silence of the Lambs, The (1991) rated 2.0\n",
      "Alien (1979) rated 4.0\n",
      "Star Trek: The Wrath of Khan (1982) rated 5.0\n",
      "Sphere (1998) rated 5.0\n"
     ]
    }
   ],
   "source": [
    "my_ratings = np.zeros([1682, 1])\n",
    "my_ratings[0] = 4\n",
    "my_ratings[97] = 2;\n",
    "my_ratings[6] = 3\n",
    "my_ratings[11] = 5\n",
    "my_ratings[53] = 4\n",
    "my_ratings[5] = 5\n",
    "my_ratings[65]= 3\n",
    "my_ratings[68] = 5\n",
    "my_ratings[182] = 4\n",
    "my_ratings[227] = 5\n",
    "my_ratings[354] = 5\n",
    "print('New user ratings:\\n')\n",
    "for i in range(len(my_ratings)):\n",
    "    if my_ratings[i] > 0:\n",
    "        print('{} rated {}'.format(movies[i], my_ratings[i][0]))"
   ]
  },
  {
   "cell_type": "code",
   "execution_count": 122,
   "metadata": {
    "ExecuteTime": {
     "end_time": "2020-03-13T20:47:44.883841Z",
     "start_time": "2020-03-13T20:47:44.865107Z"
    }
   },
   "outputs": [
    {
     "name": "stdout",
     "output_type": "stream",
     "text": [
      "(1682, 943)\n",
      "(1682, 1)\n",
      "(1682, 944) (1682, 944)\n"
     ]
    }
   ],
   "source": [
    "#  Y is a 1682x943 matrix, containing ratings (1-5) of 1682 movies by 943 users\n",
    "#  R is a 1682x943 matrix, where R(i,j) = 1 if and only if user j gave a rating to movie i\n",
    "import scipy.io as sio\n",
    "data_path = 'ex8_movies.mat'\n",
    "data = sio.loadmat(data_path)\n",
    "Y = data['Y']\n",
    "R = data['R']\n",
    "print(Y.shape)\n",
    "print(my_ratings.shape)\n",
    "Y = np.hstack([my_ratings, Y])\n",
    "R = np.hstack([(my_ratings != 0), R])\n",
    "print(Y.shape, R.shape)"
   ]
  },
  {
   "cell_type": "code",
   "execution_count": 123,
   "metadata": {
    "ExecuteTime": {
     "end_time": "2020-03-13T20:47:45.270776Z",
     "start_time": "2020-03-13T20:47:45.264803Z"
    }
   },
   "outputs": [],
   "source": [
    "def normalize_ratings(Y, R):\n",
    "    Y_mean = np.zeros([Y.shape[0], 1])\n",
    "    Y_norm = np.zeros(Y.shape)\n",
    "    for i in range(Y.shape[0]):\n",
    "        idx = R[i, :] == 1\n",
    "        Y_mean[i] = np.mean(Y[i, idx])\n",
    "        Y_norm[i, idx] = Y[i, idx] - Y_mean[i]\n",
    "    return Y_norm, Y_mean"
   ]
  },
  {
   "cell_type": "code",
   "execution_count": 124,
   "metadata": {
    "ExecuteTime": {
     "end_time": "2020-03-13T20:47:45.646867Z",
     "start_time": "2020-03-13T20:47:45.578379Z"
    }
   },
   "outputs": [],
   "source": [
    "Y_norm, Y_mean = normalize_ratings(Y, R)"
   ]
  },
  {
   "cell_type": "code",
   "execution_count": 125,
   "metadata": {
    "ExecuteTime": {
     "end_time": "2020-03-13T20:47:46.086277Z",
     "start_time": "2020-03-13T20:47:46.077247Z"
    }
   },
   "outputs": [
    {
     "name": "stdout",
     "output_type": "stream",
     "text": [
      "(1682, 10) (944, 10)\n"
     ]
    }
   ],
   "source": [
    "num_movies, num_users = Y.shape\n",
    "num_features = 10\n",
    "X = np.random.randn(num_movies, num_features)\n",
    "Theta = np.random.randn(num_users, num_features)\n",
    "print(X.shape, Theta.shape)\n",
    "initial_parameters = np.r_[X, Theta].ravel()"
   ]
  },
  {
   "cell_type": "code",
   "execution_count": 126,
   "metadata": {
    "ExecuteTime": {
     "end_time": "2020-03-13T20:47:46.530249Z",
     "start_time": "2020-03-13T20:47:46.518658Z"
    },
    "code_folding": [
     0
    ]
   },
   "outputs": [],
   "source": [
    "def cofi_cost_func(params, Y, R, num_users, num_movies, num_features, lamb):\n",
    "    X = params[:num_movies*num_features].reshape([num_movies, num_features])\n",
    "    Theta = params[num_movies*num_features:].reshape([num_users, num_features])\n",
    "    X_grad = np.zeros(X.shape)\n",
    "    Theta_grad = np.zeros(Theta.shape)\n",
    "    grad = 0\n",
    "    J_unreg = (1/2) * np.sum(((X@Theta.T - Y)*R)**2)\n",
    "    J = J_unreg + (lamb/2)*(np.sum(X**2) + np.sum(Theta**2))\n",
    "        \n",
    "    for i in range(num_movies):\n",
    "        X_grad[i, :] = ((X[i, :] @ Theta.T - Y[i, :]) * R[i, :]) @ Theta\n",
    "\n",
    "    for i in range(num_users):\n",
    "        Theta_grad[i, :] = ((X @ Theta[i, :].T - Y[:, i]) * R[:, i]).T @ X\n",
    "\n",
    "    X_grad =  X_grad + lamb*X\n",
    "    Theta_grad =  Theta_grad + lamb*Theta\n",
    "        \n",
    "    grad = np.r_[X_grad, Theta_grad].ravel()\n",
    "    return J, grad"
   ]
  },
  {
   "cell_type": "code",
   "execution_count": 129,
   "metadata": {
    "ExecuteTime": {
     "end_time": "2020-03-13T20:48:35.632780Z",
     "start_time": "2020-03-13T20:48:25.344217Z"
    }
   },
   "outputs": [
    {
     "data": {
      "text/plain": [
       "     fun: 43210.55379470745\n",
       "     jac: array([-6.82972865, -6.70936265, -8.68839135, ...,  0.33485331,\n",
       "       -0.02131491,  1.24334053])\n",
       " message: 'Max. number of function evaluations reached'\n",
       "    nfev: 100\n",
       "     nit: 9\n",
       "  status: 3\n",
       " success: False\n",
       "       x: array([-5.11836008e-01, -3.63519298e-01,  4.09681778e-01, ...,\n",
       "       -5.01148802e-04, -2.34268703e-01,  8.73883508e-02])"
      ]
     },
     "execution_count": 129,
     "metadata": {},
     "output_type": "execute_result"
    }
   ],
   "source": [
    "from scipy import optimize\n",
    "options = {'maxiter': 100, 'disp':True}\n",
    "lamb = 10\n",
    "res = optimize.minimize(lambda params: cofi_cost_func(params, Y_norm, R, num_users,\n",
    "                                                 num_movies, num_features, lamb),\n",
    "                        initial_parameters,\n",
    "                        method='TNC',\n",
    "                        jac=True,\n",
    "                        options=options)\n",
    "res"
   ]
  },
  {
   "cell_type": "code",
   "execution_count": 130,
   "metadata": {
    "ExecuteTime": {
     "end_time": "2020-03-13T20:49:18.037385Z",
     "start_time": "2020-03-13T20:49:18.030386Z"
    }
   },
   "outputs": [],
   "source": [
    "params = res.x\n",
    "X_res = params[:num_movies*num_features].reshape([num_movies, num_features])\n",
    "Theta_res = params[num_movies*num_features:].reshape([num_users, num_features])"
   ]
  },
  {
   "cell_type": "code",
   "execution_count": 138,
   "metadata": {
    "ExecuteTime": {
     "end_time": "2020-03-13T20:51:05.379087Z",
     "start_time": "2020-03-13T20:51:05.374756Z"
    }
   },
   "outputs": [
    {
     "data": {
      "text/plain": [
       "5.030561614565158"
      ]
     },
     "execution_count": 138,
     "metadata": {},
     "output_type": "execute_result"
    }
   ],
   "source": [
    "temp.max()"
   ]
  },
  {
   "cell_type": "code",
   "execution_count": 89,
   "metadata": {
    "ExecuteTime": {
     "end_time": "2020-03-13T20:17:50.010323Z",
     "start_time": "2020-03-13T20:17:49.946923Z"
    }
   },
   "outputs": [],
   "source": [
    "p = X_res @ Theta_res.T\n",
    "my_predictions = p[:, 0] + Y_mean.ravel()"
   ]
  },
  {
   "cell_type": "code",
   "execution_count": 91,
   "metadata": {
    "ExecuteTime": {
     "end_time": "2020-03-13T20:18:43.600842Z",
     "start_time": "2020-03-13T20:18:43.594039Z"
    }
   },
   "outputs": [
    {
     "data": {
      "text/plain": [
       "array([0.99928727, 0.99928747, 0.99939309, ..., 5.00045594, 5.00053649,\n",
       "       5.00054966])"
      ]
     },
     "execution_count": 91,
     "metadata": {},
     "output_type": "execute_result"
    }
   ],
   "source": [
    "np.sort(my_predictions)"
   ]
  },
  {
   "cell_type": "code",
   "execution_count": 154,
   "metadata": {
    "ExecuteTime": {
     "end_time": "2020-03-13T20:58:03.196692Z",
     "start_time": "2020-03-13T20:58:03.185076Z"
    }
   },
   "outputs": [
    {
     "name": "stdout",
     "output_type": "stream",
     "text": [
      "Top recommendations for you:\n",
      "Predicting rating 5.0 for movie They Made Me a Criminal (1939)\n",
      "Predicting rating 5.0 for movie Star Kid (1997)\n",
      "Predicting rating 5.0 for movie Entertaining Angels: The Dorothy Day Story (1996)\n",
      "Predicting rating 5.0 for movie Prefontaine (1997)\n",
      "Predicting rating 5.0 for movie Santa with Muscles (1996)\n",
      "Predicting rating 5.0 for movie Great Day in Harlem, A (1994)\n",
      "Predicting rating 5.0 for movie Aiqing wansui (1994)\n",
      "Predicting rating 5.0 for movie Someone Else's America (1995)\n",
      "Predicting rating 5.0 for movie Marlene Dietrich: Shadow and Light (1996)\n",
      "Predicting rating 5.0 for movie Saint of Fort Washington, The (1993)\n",
      "\n",
      "Original ratings provided:\n",
      "Toy Story (1995) rated 4.0\n",
      "Shanghai Triad (Yao a yao yao dao waipo qiao) (1995) rated 5.0\n",
      "Twelve Monkeys (1995) rated 3.0\n",
      "Usual Suspects, The (1995) rated 5.0\n",
      "Outbreak (1995) rated 4.0\n",
      "While You Were Sleeping (1995) rated 3.0\n",
      "Forrest Gump (1994) rated 5.0\n",
      "Silence of the Lambs, The (1991) rated 2.0\n",
      "Alien (1979) rated 4.0\n",
      "Star Trek: The Wrath of Khan (1982) rated 5.0\n",
      "Sphere (1998) rated 5.0\n"
     ]
    }
   ],
   "source": [
    "pred_idxs_sorted = np.argsort(my_predictions)\n",
    "pred_idxs_sorted = pred_idxs_sorted[-10:]\n",
    "\n",
    "print(\"Top recommendations for you:\")\n",
    "for i in pred_idxs_sorted:\n",
    "    print(\"Predicting rating {:.3} for movie {}\".format(my_predictions[i], movies[i]))\n",
    "\n",
    "print(\"\\nOriginal ratings provided:\")\n",
    "for i in range(len(my_ratings)):\n",
    "    if my_ratings[i] > 0:\n",
    "        print('{} rated {:.3}'.format(movies[i], my_ratings[i][0]))"
   ]
  },
  {
   "cell_type": "code",
   "execution_count": null,
   "metadata": {},
   "outputs": [],
   "source": []
  }
 ],
 "metadata": {
  "kernelspec": {
   "display_name": "Python 3",
   "language": "python",
   "name": "python3"
  },
  "language_info": {
   "codemirror_mode": {
    "name": "ipython",
    "version": 3
   },
   "file_extension": ".py",
   "mimetype": "text/x-python",
   "name": "python",
   "nbconvert_exporter": "python",
   "pygments_lexer": "ipython3",
   "version": "3.7.4"
  },
  "toc": {
   "base_numbering": 1,
   "nav_menu": {},
   "number_sections": true,
   "sideBar": true,
   "skip_h1_title": false,
   "title_cell": "Table of Contents",
   "title_sidebar": "Contents",
   "toc_cell": false,
   "toc_position": {},
   "toc_section_display": true,
   "toc_window_display": false
  },
  "varInspector": {
   "cols": {
    "lenName": 16,
    "lenType": 16,
    "lenVar": 40
   },
   "kernels_config": {
    "python": {
     "delete_cmd_postfix": "",
     "delete_cmd_prefix": "del ",
     "library": "var_list.py",
     "varRefreshCmd": "print(var_dic_list())"
    },
    "r": {
     "delete_cmd_postfix": ") ",
     "delete_cmd_prefix": "rm(",
     "library": "var_list.r",
     "varRefreshCmd": "cat(var_dic_list()) "
    }
   },
   "types_to_exclude": [
    "module",
    "function",
    "builtin_function_or_method",
    "instance",
    "_Feature"
   ],
   "window_display": false
  }
 },
 "nbformat": 4,
 "nbformat_minor": 2
}
