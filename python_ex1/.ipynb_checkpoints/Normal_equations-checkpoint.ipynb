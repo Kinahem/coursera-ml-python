{
 "cells": [
  {
   "cell_type": "code",
   "execution_count": 1,
   "metadata": {
    "ExecuteTime": {
     "end_time": "2020-03-03T12:11:28.623331Z",
     "start_time": "2020-03-03T12:11:28.392608Z"
    }
   },
   "outputs": [],
   "source": [
    "import numpy as np\n",
    "import matplotlib.pyplot as plt\n",
    "import csv\n",
    "from mpl_toolkits.mplot3d import Axes3D"
   ]
  },
  {
   "cell_type": "code",
   "execution_count": 2,
   "metadata": {
    "ExecuteTime": {
     "end_time": "2020-03-03T12:11:30.080308Z",
     "start_time": "2020-03-03T12:11:28.625293Z"
    }
   },
   "outputs": [
    {
     "data": {
      "text/plain": [
       "(47, 3)"
      ]
     },
     "execution_count": 2,
     "metadata": {},
     "output_type": "execute_result"
    }
   ],
   "source": [
    "data_path = \"ex1data2.txt\"\n",
    "with open(data_path, \"r\", newline=\"\") as file:\n",
    "    reader = csv.reader(file)\n",
    "    data = np.array(list(reader), dtype=float)\n",
    "\n",
    "data.shape"
   ]
  },
  {
   "cell_type": "code",
   "execution_count": 3,
   "metadata": {
    "ExecuteTime": {
     "end_time": "2020-03-03T12:11:31.279144Z",
     "start_time": "2020-03-03T12:11:30.084648Z"
    }
   },
   "outputs": [],
   "source": [
    "def h_x(theta, X):\n",
    "    return X.dot(theta)"
   ]
  },
  {
   "cell_type": "code",
   "execution_count": 4,
   "metadata": {
    "ExecuteTime": {
     "end_time": "2020-03-03T12:11:32.554825Z",
     "start_time": "2020-03-03T12:11:31.284335Z"
    }
   },
   "outputs": [
    {
     "name": "stdout",
     "output_type": "stream",
     "text": [
      "(47, 2)\n",
      "(47, 1)\n",
      "(47, 3)\n",
      "[[1.000e+00 2.104e+03 3.000e+00]\n",
      " [1.000e+00 1.600e+03 3.000e+00]\n",
      " [1.000e+00 2.400e+03 3.000e+00]\n",
      " [1.000e+00 1.416e+03 2.000e+00]\n",
      " [1.000e+00 3.000e+03 4.000e+00]\n",
      " [1.000e+00 1.985e+03 4.000e+00]\n",
      " [1.000e+00 1.534e+03 3.000e+00]\n",
      " [1.000e+00 1.427e+03 3.000e+00]\n",
      " [1.000e+00 1.380e+03 3.000e+00]\n",
      " [1.000e+00 1.494e+03 3.000e+00]]\n"
     ]
    }
   ],
   "source": [
    "def normalization(X):\n",
    "    sigma = np.std(X, axis=0, keepdims=True)\n",
    "    mu = np.mean(X, axis=0, keepdims=True)\n",
    "    return (X - mu)/sigma\n",
    "\n",
    "X = np.reshape(data[:,0:2], (-1,2))\n",
    "y = np.reshape(data[:,2], (-1,1))\n",
    "m = y.shape[0]\n",
    "print(X.shape)\n",
    "print(y.shape)\n",
    "#X = normalization(X) # to get h similar to Lin_regression_multi\n",
    "X = np.append(np.ones([m,1]), X, axis=1)\n",
    "print(X.shape)\n",
    "print(X[:10])"
   ]
  },
  {
   "cell_type": "code",
   "execution_count": 5,
   "metadata": {
    "ExecuteTime": {
     "end_time": "2020-03-03T12:11:33.039763Z",
     "start_time": "2020-03-03T12:11:32.558371Z"
    }
   },
   "outputs": [
    {
     "data": {
      "text/plain": [
       "array([[89597.9095428 ],\n",
       "       [  139.21067402],\n",
       "       [-8738.01911233]])"
      ]
     },
     "execution_count": 5,
     "metadata": {},
     "output_type": "execute_result"
    }
   ],
   "source": [
    "X_inv = np.linalg.inv(X.T.dot(X)) \n",
    "theta = X_inv.dot(X.T).dot(y)\n",
    "theta"
   ]
  },
  {
   "cell_type": "code",
   "execution_count": 6,
   "metadata": {
    "ExecuteTime": {
     "end_time": "2020-03-03T12:11:33.099128Z",
     "start_time": "2020-03-03T12:11:33.042834Z"
    }
   },
   "outputs": [
    {
     "name": "stdout",
     "output_type": "stream",
     "text": [
      "[[356283.1103389 ]\n",
      " [286120.93063401]\n",
      " [397489.46984811]\n",
      " [269244.1857271 ]\n",
      " [472277.85514636]\n",
      " [330979.02101847]\n",
      " [276933.02614885]\n",
      " [262037.48402896]\n",
      " [255494.58235014]\n",
      " [271364.59918814]]\n",
      "[[399900.]\n",
      " [329900.]\n",
      " [369000.]\n",
      " [232000.]\n",
      " [539900.]\n",
      " [299900.]\n",
      " [314900.]\n",
      " [198999.]\n",
      " [212000.]\n",
      " [242500.]]\n"
     ]
    }
   ],
   "source": [
    "print(h_x(theta, X[:10]))\n",
    "print(y[:10])"
   ]
  },
  {
   "cell_type": "code",
   "execution_count": null,
   "metadata": {},
   "outputs": [],
   "source": []
  }
 ],
 "metadata": {
  "kernelspec": {
   "display_name": "Python 3",
   "language": "python",
   "name": "python3"
  },
  "language_info": {
   "codemirror_mode": {
    "name": "ipython",
    "version": 3
   },
   "file_extension": ".py",
   "mimetype": "text/x-python",
   "name": "python",
   "nbconvert_exporter": "python",
   "pygments_lexer": "ipython3",
   "version": "3.7.4"
  },
  "toc": {
   "base_numbering": 1,
   "nav_menu": {},
   "number_sections": true,
   "sideBar": true,
   "skip_h1_title": false,
   "title_cell": "Table of Contents",
   "title_sidebar": "Contents",
   "toc_cell": false,
   "toc_position": {},
   "toc_section_display": true,
   "toc_window_display": false
  },
  "varInspector": {
   "cols": {
    "lenName": 16,
    "lenType": 16,
    "lenVar": 40
   },
   "kernels_config": {
    "python": {
     "delete_cmd_postfix": "",
     "delete_cmd_prefix": "del ",
     "library": "var_list.py",
     "varRefreshCmd": "print(var_dic_list())"
    },
    "r": {
     "delete_cmd_postfix": ") ",
     "delete_cmd_prefix": "rm(",
     "library": "var_list.r",
     "varRefreshCmd": "cat(var_dic_list()) "
    }
   },
   "types_to_exclude": [
    "module",
    "function",
    "builtin_function_or_method",
    "instance",
    "_Feature"
   ],
   "window_display": false
  }
 },
 "nbformat": 4,
 "nbformat_minor": 2
}
