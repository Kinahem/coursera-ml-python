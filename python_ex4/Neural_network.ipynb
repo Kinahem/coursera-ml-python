{
 "cells": [
  {
   "cell_type": "code",
   "execution_count": 1,
   "metadata": {
    "ExecuteTime": {
     "end_time": "2020-03-16T13:57:16.856449Z",
     "start_time": "2020-03-16T13:57:16.488101Z"
    }
   },
   "outputs": [],
   "source": [
    "import numpy as np\n",
    "import matplotlib.pyplot as plt\n",
    "from scipy.optimize import minimize\n",
    "import scipy.io as sio"
   ]
  },
  {
   "cell_type": "code",
   "execution_count": 2,
   "metadata": {
    "ExecuteTime": {
     "end_time": "2020-03-16T13:57:17.642177Z",
     "start_time": "2020-03-16T13:57:16.858814Z"
    }
   },
   "outputs": [
    {
     "name": "stdout",
     "output_type": "stream",
     "text": [
      "dict_keys(['__header__', '__version__', '__globals__', 'X', 'y'])\n"
     ]
    }
   ],
   "source": [
    "data_path = \"ex4data1.mat\"\n",
    "data = sio.loadmat(data_path)\n",
    "print(data.keys())"
   ]
  },
  {
   "cell_type": "code",
   "execution_count": 3,
   "metadata": {
    "ExecuteTime": {
     "end_time": "2020-03-16T13:57:17.648605Z",
     "start_time": "2020-03-16T13:57:17.644455Z"
    }
   },
   "outputs": [
    {
     "name": "stdout",
     "output_type": "stream",
     "text": [
      "(5000, 400)\n",
      "(5000, 1)\n"
     ]
    }
   ],
   "source": [
    "X = data['X']\n",
    "y = data['y']\n",
    "m = y.shape[0]\n",
    "print(X.shape)\n",
    "print(y.shape)"
   ]
  },
  {
   "cell_type": "code",
   "execution_count": 4,
   "metadata": {
    "ExecuteTime": {
     "end_time": "2020-03-16T13:57:18.703045Z",
     "start_time": "2020-03-16T13:57:17.651124Z"
    }
   },
   "outputs": [
    {
     "data": {
      "image/png": "[encoded data removed]",
      "text/plain": [
       "<Figure size 1080x576 with 25 Axes>"
      ]
     },
     "metadata": {
      "needs_background": "light"
     },
     "output_type": "display_data"
    }
   ],
   "source": [
    "def display_data(data, width):\n",
    "    plt.figure(figsize=(15,8))\n",
    "    plt.subplots_adjust(top=1.1, right=0.8, left=0.1)\n",
    "    snum = np.sqrt(data.shape[0])\n",
    "    for i, im_data in enumerate(data):\n",
    "        plt.subplot(snum, snum, i+1)\n",
    "        plt.axis('off')\n",
    "        image = data[i].reshape((20, 20), order='F') #order like in fortran, nice\n",
    "        plt.imshow(image,'gist_heat')\n",
    "      \n",
    "    plt.show()\n",
    "\n",
    "#np.random.seed(42)\n",
    "rand_indices = np.random.randint(5000, size=25)\n",
    "display_data(X[rand_indices], 20)"
   ]
  },
  {
   "cell_type": "code",
   "execution_count": 5,
   "metadata": {
    "ExecuteTime": {
     "end_time": "2020-03-16T13:57:18.773343Z",
     "start_time": "2020-03-16T13:57:18.704984Z"
    }
   },
   "outputs": [
    {
     "name": "stdout",
     "output_type": "stream",
     "text": [
      "dict_keys(['__header__', '__version__', '__globals__', 'Theta1', 'Theta2'])\n",
      "(25, 401) (10, 26)\n",
      "(5000, 400)\n"
     ]
    }
   ],
   "source": [
    "weights_path = \"ex4weights.mat\"\n",
    "weights = sio.loadmat(weights_path)\n",
    "print(weights.keys())\n",
    "theta1 = weights['Theta1']\n",
    "theta2 = weights['Theta2']\n",
    "print(theta1.shape, theta2.shape)\n",
    "print(X.shape)"
   ]
  },
  {
   "cell_type": "code",
   "execution_count": 6,
   "metadata": {
    "ExecuteTime": {
     "end_time": "2020-03-16T13:57:18.828334Z",
     "start_time": "2020-03-16T13:57:18.778015Z"
    }
   },
   "outputs": [
    {
     "data": {
      "text/plain": [
       "array([[0.5       , 0.73105858, 0.88079708],\n",
       "       [0.5       , 0.26894142, 0.11920292]])"
      ]
     },
     "execution_count": 6,
     "metadata": {},
     "output_type": "execute_result"
    }
   ],
   "source": [
    "def sigmoid(z):\n",
    "    return 1/(1 + np.exp(-z))\n",
    "\n",
    "sigmoid(np.array([[0, 1, 2],[0, -1, -2]]))"
   ]
  },
  {
   "cell_type": "code",
   "execution_count": 7,
   "metadata": {
    "ExecuteTime": {
     "end_time": "2020-03-16T13:57:18.921867Z",
     "start_time": "2020-03-16T13:57:18.831949Z"
    }
   },
   "outputs": [],
   "source": [
    "def predict(X, theta1, theta2):\n",
    "    m = X.shape[0]\n",
    "    X = np.hstack((np.ones([m,1]), X))\n",
    "    z_2 = X @ theta1.T\n",
    "    h_2 = sigmoid(z_2)\n",
    "    h_2 = np.hstack((np.ones([m,1]), h_2))\n",
    "    z_3 = h_2 @ theta2.T\n",
    "    h_3 = sigmoid(z_3)\n",
    "    pred = np.argmax(h_3, axis=1) + 1\n",
    "    \n",
    "    return pred"
   ]
  },
  {
   "cell_type": "code",
   "execution_count": 8,
   "metadata": {
    "ExecuteTime": {
     "end_time": "2020-03-16T13:57:19.132213Z",
     "start_time": "2020-03-16T13:57:18.924770Z"
    }
   },
   "outputs": [],
   "source": [
    "pred = predict(X, theta1, theta2)"
   ]
  },
  {
   "cell_type": "code",
   "execution_count": 9,
   "metadata": {
    "ExecuteTime": {
     "end_time": "2020-03-16T13:57:19.254639Z",
     "start_time": "2020-03-16T13:57:19.135785Z"
    }
   },
   "outputs": [
    {
     "name": "stdout",
     "output_type": "stream",
     "text": [
      "acc:  0.9752\n"
     ]
    }
   ],
   "source": [
    "print(\"acc: \", np.count_nonzero(pred == y[:,0])/m)"
   ]
  },
  {
   "cell_type": "code",
   "execution_count": 10,
   "metadata": {
    "ExecuteTime": {
     "end_time": "2020-03-16T13:57:19.344200Z",
     "start_time": "2020-03-16T13:57:19.256478Z"
    }
   },
   "outputs": [],
   "source": [
    "def sigmoid_gradient(z):\n",
    "    return sigmoid(z)*(1 - sigmoid(z))\n"
   ]
  },
  {
   "cell_type": "code",
   "execution_count": 11,
   "metadata": {
    "ExecuteTime": {
     "end_time": "2020-03-16T13:57:19.454732Z",
     "start_time": "2020-03-16T13:57:19.346133Z"
    }
   },
   "outputs": [],
   "source": [
    "def nn_cost_function(nn_params, \n",
    "                     input_layer_size, \n",
    "                     hidden_layer_size, \n",
    "                     num_labels, \n",
    "                     X, y, lamb=0.0):\n",
    "    \n",
    "    theta1 = np.reshape(nn_params[:(hidden_layer_size * (input_layer_size + 1))],\n",
    "                        [hidden_layer_size, input_layer_size + 1])\n",
    "    theta2 = np.reshape(nn_params[(hidden_layer_size * (input_layer_size + 1)):],\n",
    "                        [num_labels, hidden_layer_size + 1])\n",
    "    \n",
    "    theta1_grad = np.zeros(theta1.shape)\n",
    "    theta2_grad = np.zeros(theta2.shape)\n",
    "    \n",
    "    grad = 0\n",
    "    \n",
    "    m = X.shape[0]\n",
    "    J = 0\n",
    "    for i in range(m):\n",
    "        a_1 = np.hstack(([1], X[i]))[None,:]\n",
    "        #print(a_1.shape)\n",
    "        z_2 = a_1 @ theta1.T\n",
    "        #print(theta1.T.shape)\n",
    "        a_2 = sigmoid(z_2)\n",
    "        a_2 = np.hstack(([[1]], a_2))\n",
    "        #print(a_2.shape)\n",
    "        z_3 = a_2 @ theta2.T\n",
    "        #print(theta2.T.shape)\n",
    "        a_3 = sigmoid(z_3)\n",
    "        #print(a_3.shape)\n",
    "        #print(a_3)\n",
    "        for k in range(1, num_labels+1):\n",
    "            J += (-int(y[i] == k)) * np.log(a_3[0][k-1]) - (int(y[i]!= k)) * np.log(1-a_3[0][k-1]) \n",
    "        z_2 = np.hstack(([[1]], z_2))\n",
    "        d_3 = a_3\n",
    "        #print(d_3.shape)\n",
    "        d_3[0][y[i]-1] = d_3[0][y[i]-1] - 1\n",
    "        d_2 = (d_3 @ theta2) * sigmoid_gradient(z_2)\n",
    "        d_2 = d_2[0][None, 1:]\n",
    "        #print(d_2.shape, a_1.shape)\n",
    "        theta1_grad = theta1_grad + d_2.T @ a_1\n",
    "        #print(theta1_grad.shape)\n",
    "        theta2_grad = theta2_grad + d_3.T @ a_2\n",
    "    t1 = theta1[:,1:]\n",
    "    t2 = theta2[:,1:]\n",
    "    J = (1/m) * J\n",
    "    J_reg = (lamb/(2*m))*(np.sum(t1**2) + np.sum(t2**2))\n",
    "    J = J + J_reg\n",
    "    \n",
    "    theta1_grad = (1/m) * theta1_grad\n",
    "    theta2_grad = (1/m) * theta2_grad\n",
    "\n",
    "    theta1_grad[:,1:] = theta1_grad[:,1:] + (lamb/m)*theta1[:,1:]\n",
    "    theta2_grad[:,1:] = theta2_grad[:,1:] + (lamb/m)*theta2[:,1:]\n",
    "\n",
    "    #grad = np.array([theta1_grad, theta2_grad])\n",
    "    grad = np.concatenate([theta1_grad.ravel(), theta2_grad.ravel()])\n",
    "    \n",
    "    return [J, grad]"
   ]
  },
  {
   "cell_type": "code",
   "execution_count": 13,
   "metadata": {
    "ExecuteTime": {
     "end_time": "2020-03-16T13:57:45.512755Z",
     "start_time": "2020-03-16T13:57:41.864835Z"
    }
   },
   "outputs": [
    {
     "name": "stdout",
     "output_type": "stream",
     "text": [
      "Results with weights loaded from ex4weights\n",
      "Cost at parameters, expected - 0.287629: 0.2876291651613203\n",
      "Cost with lambda = 1, expected - 0.383770: 0.38376985909092504\n",
      "Cost with lambda = 3, expected - 0.576051:  0.5760512469501344\n"
     ]
    }
   ],
   "source": [
    "input_layer_size  = 400  # 20x20 Input Images of Digits\n",
    "hidden_layer_size = 25   # 25 hidden units\n",
    "num_labels = 10          # 10 labels, from 1 to 10 (note that we have mapped \"0\" to label 10)\n",
    "\n",
    "# Unroll parameters \n",
    "nn_params = np.r_[theta1.flatten(), theta2.flatten()]\n",
    "\n",
    "# Weight regularization parameter (we set this to 0 here).\n",
    "lamb = 0\n",
    "\n",
    "J, grad = nn_cost_function(nn_params, input_layer_size, hidden_layer_size, num_labels, X, y, lamb)\n",
    "print(\"Results with weights loaded from ex4weights\")\n",
    "print('Cost at parameters, expected - 0.287629:', J)\n",
    "#print(\"theta1_grad shape: \", grad[0].shape)\n",
    "#print(\"theta2_grad shape: \", grad[1].shape)\n",
    "J, grad = nn_cost_function(nn_params, input_layer_size, hidden_layer_size, num_labels, X, y, 1)\n",
    "print('Cost with lambda = 1, expected - 0.383770:', J)\n",
    "J, grad = nn_cost_function(nn_params, input_layer_size, hidden_layer_size, num_labels, X, y, 3)\n",
    "print('Cost with lambda = 3, expected - 0.576051: ', J)"
   ]
  },
  {
   "cell_type": "code",
   "execution_count": 14,
   "metadata": {
    "ExecuteTime": {
     "end_time": "2020-03-16T13:57:45.536726Z",
     "start_time": "2020-03-16T13:57:45.531226Z"
    }
   },
   "outputs": [],
   "source": [
    "def rand_weights(size_in, size_out):\n",
    "    epsilon = 0.12\n",
    "    return np.random.rand(size_out, size_in + 1) * 2*epsilon - epsilon"
   ]
  },
  {
   "cell_type": "code",
   "execution_count": 15,
   "metadata": {
    "ExecuteTime": {
     "end_time": "2020-03-16T13:57:49.786093Z",
     "start_time": "2020-03-16T13:57:49.781093Z"
    }
   },
   "outputs": [
    {
     "name": "stdout",
     "output_type": "stream",
     "text": [
      "(25, 401) (10, 26)\n"
     ]
    }
   ],
   "source": [
    "my_theta1 = rand_weights(input_layer_size, hidden_layer_size)\n",
    "my_theta2 = rand_weights(hidden_layer_size, num_labels)\n",
    "print(my_theta1.shape, my_theta2.shape)"
   ]
  },
  {
   "cell_type": "code",
   "execution_count": 16,
   "metadata": {
    "ExecuteTime": {
     "end_time": "2020-03-16T13:57:50.439044Z",
     "start_time": "2020-03-16T13:57:50.430699Z"
    }
   },
   "outputs": [],
   "source": [
    "def compute_numerical_gradient(J, theta, e=1e-4):\n",
    "    numgrad = np.zeros(theta.shape)\n",
    "    perturb = np.diag(e * np.ones(theta.shape))\n",
    "    for i in range(theta.size):\n",
    "        loss1, _ = J(theta - perturb[:, i])\n",
    "        loss2, _ = J(theta + perturb[:, i])\n",
    "        numgrad[i] = (loss2 - loss1)/(2*e)\n",
    "    return np.array(numgrad)"
   ]
  },
  {
   "cell_type": "code",
   "execution_count": 17,
   "metadata": {
    "ExecuteTime": {
     "end_time": "2020-03-16T13:57:56.766785Z",
     "start_time": "2020-03-16T13:57:56.758025Z"
    }
   },
   "outputs": [],
   "source": [
    "def check_gradient(nn_cost_function, lamb=0):\n",
    "    input_layer_size = 3\n",
    "    hidden_layer_size = 5\n",
    "    num_labels = 3\n",
    "    m = 5\n",
    "\n",
    "    # We generate some 'random' test data\n",
    "    theta1 = rand_weights(input_layer_size, hidden_layer_size) # [5x4]\n",
    "    theta2 = rand_weights(hidden_layer_size, num_labels) # [3x6]\n",
    "\n",
    "    X = 1 * np.random.random((m, input_layer_size)) + 1 # [3, 3]\n",
    "    y = np.random.randint(1, num_labels+1, size=(m+1, 1)) # [1, 6]\n",
    "    nn_params = np.r_[theta1.flatten(), theta2.flatten()]\n",
    "\n",
    "    # short hand for cost function\n",
    "    cost_func = lambda p: nn_cost_function(p, input_layer_size, hidden_layer_size,\n",
    "                                        num_labels, X, y, lamb)\n",
    "    cost, all_grads = cost_func(nn_params)\n",
    "    numgrad = compute_numerical_gradient(cost_func, nn_params)\n",
    "    #all_grads = np.hstack((grad[0].flatten(), grad[1].flatten()))\n",
    "    # Visually examine the two gradient computations.The two columns you get should be very similar.\n",
    "    \n",
    "    print(np.stack([numgrad, all_grads], axis=1))\n",
    "    print('The above two columns you get should be very similar.')\n",
    "    print('(Left-Your Numerical Gradient, Right-Analytical Gradient)\\n')\n",
    "\n",
    "    # Evaluate the norm of the difference between two the solutions. If you have a correct\n",
    "    # implementation, and assuming you used e = 0.0001 in computeNumericalGradient, then diff\n",
    "    # should be less than 1e-9.\n",
    "    diff = np.linalg.norm(numgrad - all_grads)/np.linalg.norm(numgrad + all_grads)\n",
    "\n",
    "    print('If your backpropagation implementation is correct, then \\n'\n",
    "          'the relative difference will be small (less than 1e-9). \\n'\n",
    "          'Relative Difference: %g' % diff)"
   ]
  },
  {
   "cell_type": "code",
   "execution_count": 18,
   "metadata": {
    "ExecuteTime": {
     "end_time": "2020-03-16T13:57:57.701816Z",
     "start_time": "2020-03-16T13:57:57.632244Z"
    }
   },
   "outputs": [
    {
     "name": "stdout",
     "output_type": "stream",
     "text": [
      "[[ 0.00925857  0.00925857]\n",
      " [ 0.01497526  0.01497526]\n",
      " [ 0.01259588  0.01259588]\n",
      " [ 0.01385237  0.01385237]\n",
      " [-0.01193265 -0.01193265]\n",
      " [-0.01942332 -0.01942332]\n",
      " [-0.01749429 -0.01749429]\n",
      " [-0.02063995 -0.02063995]\n",
      " [ 0.00511645  0.00511645]\n",
      " [ 0.00825598  0.00825598]\n",
      " [ 0.00671333  0.00671333]\n",
      " [ 0.00711127  0.00711127]\n",
      " [ 0.0056085   0.0056085 ]\n",
      " [ 0.00906768  0.00906768]\n",
      " [ 0.00759801  0.00759801]\n",
      " [ 0.00831105  0.00831105]\n",
      " [-0.01686064 -0.01686064]\n",
      " [-0.0274349  -0.0274349 ]\n",
      " [-0.02461985 -0.02461985]\n",
      " [-0.02895612 -0.02895612]\n",
      " [ 0.50812023  0.50812023]\n",
      " [ 0.29948861  0.29948861]\n",
      " [ 0.26009175  0.26009175]\n",
      " [ 0.30233835  0.30233835]\n",
      " [ 0.2501349   0.2501349 ]\n",
      " [ 0.23956151  0.23956151]\n",
      " [-0.06280713 -0.06280713]\n",
      " [-0.03871774 -0.03871774]\n",
      " [-0.03175499 -0.03175499]\n",
      " [-0.03965023 -0.03965023]\n",
      " [-0.03038933 -0.03038933]\n",
      " [-0.02851312 -0.02851312]\n",
      " [ 0.07708135  0.07708135]\n",
      " [ 0.04712694  0.04712694]\n",
      " [ 0.03906166  0.03906166]\n",
      " [ 0.04813734  0.04813734]\n",
      " [ 0.03741865  0.03741865]\n",
      " [ 0.03524587  0.03524587]]\n",
      "The above two columns you get should be very similar.\n",
      "(Left-Your Numerical Gradient, Right-Analytical Gradient)\n",
      "\n",
      "If your backpropagation implementation is correct, then \n",
      "the relative difference will be small (less than 1e-9). \n",
      "Relative Difference: 9.54548e-11\n"
     ]
    }
   ],
   "source": [
    "check_gradient(nn_cost_function)"
   ]
  },
  {
   "cell_type": "code",
   "execution_count": 19,
   "metadata": {
    "ExecuteTime": {
     "end_time": "2020-03-16T13:59:59.027720Z",
     "start_time": "2020-03-16T13:57:58.832221Z"
    }
   },
   "outputs": [],
   "source": [
    "from scipy import optimize\n",
    "\n",
    "options= {'maxiter': 100}\n",
    "nn_params = np.r_[theta1.flatten(), theta2.flatten()]\n",
    "lamb = 1\n",
    "\n",
    "# Create \"short hand\" for the cost function to be minimized\n",
    "cost_func = lambda p: nn_cost_function(p, input_layer_size, hidden_layer_size,\n",
    "                                        num_labels, X, y, lamb)\n",
    "# Now, costFunction is a function that takes in only one argument\n",
    "# (the neural network parameters)\n",
    "res = optimize.minimize(cost_func,\n",
    "                        nn_params,\n",
    "                        jac=True,\n",
    "                        method='TNC',\n",
    "                        options=options)"
   ]
  },
  {
   "cell_type": "code",
   "execution_count": 20,
   "metadata": {
    "ExecuteTime": {
     "end_time": "2020-03-16T13:59:59.051239Z",
     "start_time": "2020-03-16T13:59:59.046518Z"
    }
   },
   "outputs": [
    {
     "data": {
      "text/plain": [
       "(10285,)"
      ]
     },
     "execution_count": 20,
     "metadata": {},
     "output_type": "execute_result"
    }
   ],
   "source": [
    "res_params = res.x\n",
    "res_params.shape"
   ]
  },
  {
   "cell_type": "code",
   "execution_count": 21,
   "metadata": {
    "ExecuteTime": {
     "end_time": "2020-03-16T13:59:59.444638Z",
     "start_time": "2020-03-16T13:59:59.069483Z"
    }
   },
   "outputs": [
    {
     "name": "stdout",
     "output_type": "stream",
     "text": [
      "acc:  0.9942\n"
     ]
    }
   ],
   "source": [
    "theta1_res = np.reshape(res_params[:(hidden_layer_size * (input_layer_size + 1))],\n",
    "                        [hidden_layer_size, input_layer_size + 1])\n",
    "theta2_res = np.reshape(res_params[(hidden_layer_size * (input_layer_size + 1)):],\n",
    "                        [num_labels, hidden_layer_size + 1])\n",
    "\n",
    "pred = predict(X, theta1_res, theta2_res)\n",
    "print(\"acc: \", np.count_nonzero(pred == y[:,0])/m)"
   ]
  },
  {
   "cell_type": "code",
   "execution_count": 22,
   "metadata": {
    "ExecuteTime": {
     "end_time": "2020-03-16T13:59:59.497674Z",
     "start_time": "2020-03-16T13:59:59.473943Z"
    }
   },
   "outputs": [
    {
     "data": {
      "text/plain": [
       "0.22995501557144873"
      ]
     },
     "execution_count": 22,
     "metadata": {},
     "output_type": "execute_result"
    }
   ],
   "source": [
    "diff = np.linalg.norm(theta1_res - theta1)/np.linalg.norm(theta1_res + theta1)\n",
    "diff"
   ]
  },
  {
   "cell_type": "code",
   "execution_count": 23,
   "metadata": {
    "ExecuteTime": {
     "end_time": "2020-03-16T13:59:59.562174Z",
     "start_time": "2020-03-16T13:59:59.535256Z"
    }
   },
   "outputs": [],
   "source": [
    "def displayData(X, example_width=None, figsize=(10, 10)):\n",
    "    if X.ndim == 2:\n",
    "        m, n = X.shape\n",
    "    elif X.ndim == 1:\n",
    "        n = X.size\n",
    "        m = 1\n",
    "        X = X[None]  # Promote to a 2 dimensional array\n",
    "    else:\n",
    "        raise IndexError('Input X should be 1 or 2 dimensional.')\n",
    "\n",
    "    example_width = example_width or int(np.round(np.sqrt(n)))\n",
    "    example_height = n / example_width\n",
    "\n",
    "    # Compute number of items to display\n",
    "    display_rows = int(np.floor(np.sqrt(m)))\n",
    "    display_cols = int(np.ceil(m / display_rows))\n",
    "\n",
    "    fig, ax_array = plt.subplots(display_rows, display_cols, figsize=figsize)\n",
    "    fig.subplots_adjust(wspace=0.025, hspace=0.025)\n",
    "\n",
    "    ax_array = [ax_array] if m == 1 else ax_array.ravel()\n",
    "\n",
    "    for i, ax in enumerate(ax_array):\n",
    "        # Display Image\n",
    "        h = ax.imshow(X[i].reshape(example_width, example_width, order='F'),\n",
    "                      cmap='gist_heat', extent=[0, 1, 0, 1])\n",
    "        ax.axis('off')"
   ]
  },
  {
   "cell_type": "code",
   "execution_count": 24,
   "metadata": {
    "ExecuteTime": {
     "end_time": "2020-03-16T14:00:00.406685Z",
     "start_time": "2020-03-16T13:59:59.587227Z"
    }
   },
   "outputs": [
    {
     "data": {
      "image/png": "[encoded data removed]",
      "text/plain": [
       "<Figure size 720x720 with 25 Axes>"
      ]
     },
     "metadata": {
      "needs_background": "light"
     },
     "output_type": "display_data"
    }
   ],
   "source": [
    "displayData(theta1_res[:, 1:])"
   ]
  },
  {
   "cell_type": "code",
   "execution_count": null,
   "metadata": {},
   "outputs": [],
   "source": []
  }
 ],
 "metadata": {
  "kernelspec": {
   "display_name": "Python 3",
   "language": "python",
   "name": "python3"
  },
  "language_info": {
   "codemirror_mode": {
    "name": "ipython",
    "version": 3
   },
   "file_extension": ".py",
   "mimetype": "text/x-python",
   "name": "python",
   "nbconvert_exporter": "python",
   "pygments_lexer": "ipython3",
   "version": "3.7.4"
  },
  "toc": {
   "base_numbering": 1,
   "nav_menu": {},
   "number_sections": true,
   "sideBar": true,
   "skip_h1_title": false,
   "title_cell": "Table of Contents",
   "title_sidebar": "Contents",
   "toc_cell": false,
   "toc_position": {},
   "toc_section_display": true,
   "toc_window_display": false
  },
  "varInspector": {
   "cols": {
    "lenName": 16,
    "lenType": 16,
    "lenVar": 40
   },
   "kernels_config": {
    "python": {
     "delete_cmd_postfix": "",
     "delete_cmd_prefix": "del ",
     "library": "var_list.py",
     "varRefreshCmd": "print(var_dic_list())"
    },
    "r": {
     "delete_cmd_postfix": ") ",
     "delete_cmd_prefix": "rm(",
     "library": "var_list.r",
     "varRefreshCmd": "cat(var_dic_list()) "
    }
   },
   "types_to_exclude": [
    "module",
    "function",
    "builtin_function_or_method",
    "instance",
    "_Feature"
   ],
   "window_display": false
  }
 },
 "nbformat": 4,
 "nbformat_minor": 2
}
