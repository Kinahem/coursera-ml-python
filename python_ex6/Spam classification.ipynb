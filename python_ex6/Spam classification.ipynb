{
 "cells": [
  {
   "cell_type": "code",
   "execution_count": 70,
   "metadata": {
    "ExecuteTime": {
     "end_time": "2020-03-04T20:56:14.543799Z",
     "start_time": "2020-03-04T20:56:14.327795Z"
    }
   },
   "outputs": [],
   "source": [
    "import numpy as np\n",
    "import matplotlib.pyplot as plt\n",
    "import re\n",
    "import utils\n",
    "from sklearn.svm import SVC\n",
    "from jupyterthemes import jtplot\n",
    "jtplot.style()"
   ]
  },
  {
   "cell_type": "code",
   "execution_count": 79,
   "metadata": {
    "ExecuteTime": {
     "end_time": "2020-03-04T22:48:14.263140Z",
     "start_time": "2020-03-04T22:48:14.252931Z"
    }
   },
   "outputs": [
    {
     "name": "stdout",
     "output_type": "stream",
     "text": [
      "> Anyone knows how much it costs to host a web portal ?\n",
      ">\n",
      "Well, it depends on how many visitors you're expecting.\n",
      "This can be anywhere from less than 10 bucks a month to a couple of $100. \n",
      "You should checkout http://www.rackspace.com/ or perhaps Amazon EC2 \n",
      "if youre running something big..\n",
      "\n",
      "To unsubscribe yourself from this mailing list, send an email to:\n",
      "groupname-unsubscribe@egroups.com\n",
      "\n",
      "\n",
      "----------------------------------------------------------------------------------------------------\n",
      "\n",
      "Folks,\n",
      " \n",
      "my first time posting - have a bit of Unix experience, but am new to Linux.\n",
      "\n",
      " \n",
      "Just got a new PC at home - Dell box with Windows XP. Added a second hard disk\n",
      "for Linux. Partitioned the disk and have installed Suse 7.2 from CD, which went\n",
      "fine except it didn't pick up my monitor.\n",
      " \n",
      "I have a Dell branded E151FPp 15\" LCD flat panel monitor and a nVidia GeForce4\n",
      "Ti4200 video card, both of which are probably too new to feature in Suse's default\n",
      "set. I downloaded a driver from the nVidia website and installed it using RPM.\n",
      "Then I ran Sax2 (as was recommended in some postings I found on the net), but\n",
      "it still doesn't feature my video card in the available list. What next?\n",
      " \n",
      "Another problem. I have a Dell branded keyboard and if I hit Caps-Lock twice,\n",
      "the whole machine crashes (in Linux, not Windows) - even the on/off switch is\n",
      "inactive, leaving me to reach for the power cable instead.\n",
      " \n",
      "If anyone can help me in any way with these probs., I'd be really grateful -\n",
      "I've searched the 'net but have run out of ideas.\n",
      " \n",
      "Or should I be going for a different version of Linux such as RedHat? Opinions\n",
      "welcome.\n",
      " \n",
      "Thanks a lot,\n",
      "Peter\n",
      "\n",
      "-- \n",
      "Irish Linux Users' Group: ilug@linux.ie\n",
      "http://www.linux.ie/mailman/listinfo/ilug for (un)subscription information.\n",
      "List maintainer: listmaster@linux.ie\n",
      "\n",
      "\n",
      "\n",
      "----------------------------------------------------------------------------------------------------\n",
      "\n",
      "Do You Want To Make $1000 Or More Per Week?\n",
      "\n",
      " \n",
      "\n",
      "If you are a motivated and qualified individual - I \n",
      "will personally demonstrate to you a system that will \n",
      "make you $1,000 per week or more! This is NOT mlm.\n",
      "\n",
      " \n",
      "\n",
      "Call our 24 hour pre-recorded number to get the \n",
      "details.  \n",
      "\n",
      " \n",
      "\n",
      "000-456-789\n",
      "\n",
      " \n",
      "\n",
      "I need people who want to make serious money.  Make \n",
      "the call and get the facts. \n",
      "\n",
      "Invest 2 minutes in yourself now!\n",
      "\n",
      " \n",
      "\n",
      "000-456-789\n",
      "\n",
      " \n",
      "\n",
      "Looking forward to your call and I will introduce you \n",
      "to people like yourself who\n",
      "are currently making $10,000 plus per week!\n",
      "\n",
      " \n",
      "\n",
      "000-456-789\n",
      "\n",
      "\n",
      "\n",
      "3484lJGv6-241lEaN9080lRmS6-271WxHo7524qiyT5-438rjUv5615hQcf0-662eiDB9057dMtVl72\n",
      "\n",
      "\n",
      "----------------------------------------------------------------------------------------------------\n",
      "\n",
      "Best Buy Viagra Generic Online\n",
      "\n",
      "Viagra 100mg x 60 Pills $125, Free Pills & Reorder Discount, Top Selling 100% Quality & Satisfaction guaranteed!\n",
      "\n",
      "We accept VISA, Master & E-Check Payments, 90000+ Satisfied Customers!\n",
      "http://medphysitcstech.ru\n",
      "\n",
      "\n",
      "\n",
      "----------------------------------------------------------------------------------------------------\n",
      "\n"
     ]
    }
   ],
   "source": [
    "data_path = ['emailSample1.txt', 'emailSample2.txt', \n",
    "             'spamSample1.txt', 'spamSample2.txt']\n",
    "data = []\n",
    "for path in data_path:\n",
    "    with open(path, 'r', newline='') as file:\n",
    "        data.append(file.read())\n",
    "        \n",
    "for sample in data:\n",
    "    print(sample)\n",
    "    print(\"-\"*100, end=\"\\n\\n\")"
   ]
  },
  {
   "cell_type": "code",
   "execution_count": 16,
   "metadata": {
    "ExecuteTime": {
     "end_time": "2020-03-04T20:01:50.346410Z",
     "start_time": "2020-03-04T20:01:50.341691Z"
    }
   },
   "outputs": [],
   "source": [
    "def get_vocab_list():\n",
    "    with open('vocab.txt', 'r', newline='') as file:\n",
    "        data = file.read()\n",
    "    return data.split()[1::2]"
   ]
  },
  {
   "cell_type": "code",
   "execution_count": 82,
   "metadata": {
    "ExecuteTime": {
     "end_time": "2020-03-04T22:51:21.807766Z",
     "start_time": "2020-03-04T22:51:21.799204Z"
    }
   },
   "outputs": [],
   "source": [
    "def process_email(email_contents, verbose=True):\n",
    "    vocab_list = get_vocab_list()\n",
    "    word_indices = []\n",
    "    # Lower case\n",
    "    email_contents = email_contents.lower()\n",
    "    # Looks for any expression that starts with < and ends with > and replace it with a space\n",
    "    email_contents = re.sub('<[^<>]+>', ' ', email_contents)\n",
    "    # Handle Numbers\n",
    "    email_contents = re.sub('[0-9]+', 'number', email_contents)\n",
    "    # Handle URLS\n",
    "    email_contents = re.sub('(http|https)://[^\\s]*', 'httpaddr',\n",
    "                            email_contents)\n",
    "    # Handle Email Addresses\n",
    "    email_contents = re.sub('[^\\s]+@[^\\s]+', 'emailaddr', email_contents)\n",
    "    # Handle $ sign\n",
    "    email_contents = re.sub('[$]+', 'dollar', email_contents)\n",
    "    email_contents = re.split('[ @$/#.-:&*+=\\[\\]?!(){},''\">_<;%\\n\\r]', email_contents)\n",
    "    email_contents = [word for word in email_contents if len(word) > 0]\n",
    "    stemmer = utils.PorterStemmer()\n",
    "    processed_email = []\n",
    "    for word in email_contents:\n",
    "        # Remove any remaining non alphanumeric characters in word\n",
    "        word = re.compile('[^a-zA-Z0-9]').sub('', word).strip()\n",
    "        word = stemmer.stem(word)\n",
    "        processed_email.append(word)\n",
    "\n",
    "        if len(word) < 1:\n",
    "            continue\n",
    "        \n",
    "        for i in range(len(vocab_list)):\n",
    "            if word == vocab_list[i]:\n",
    "                word_indices.append(i)\n",
    "        \n",
    "    if verbose:\n",
    "        print('-'*100)\n",
    "        print('Processed email:')\n",
    "        print('-'*100)\n",
    "        print(' '.join(processed_email))\n",
    "        \n",
    "    return word_indices"
   ]
  },
  {
   "cell_type": "code",
   "execution_count": 83,
   "metadata": {
    "ExecuteTime": {
     "end_time": "2020-03-04T22:51:22.292653Z",
     "start_time": "2020-03-04T22:51:22.268545Z"
    }
   },
   "outputs": [
    {
     "name": "stdout",
     "output_type": "stream",
     "text": [
      "----------------------------------------------------------------------------------------------------\n",
      "Processed email:\n",
      "----------------------------------------------------------------------------------------------------\n",
      "anyon know how much it cost to host a web portal well it depend on how mani visitor your expect thi can be anywher from less than number buck a month to a coupl of dollarnumb you should checkout httpaddr or perhap amazon ecnumb if your run someth big to unsubscrib yourself from thi mail list send an email to emailaddr\n"
     ]
    }
   ],
   "source": [
    "word_indices = process_email(data[0])"
   ]
  },
  {
   "cell_type": "code",
   "execution_count": 84,
   "metadata": {
    "ExecuteTime": {
     "end_time": "2020-03-04T22:51:26.157683Z",
     "start_time": "2020-03-04T22:51:26.154393Z"
    }
   },
   "outputs": [],
   "source": [
    "def email_features(word_indices):\n",
    "    # Total number of words in the dictionary\n",
    "    x = [0] * 1899\n",
    "    for i in word_indices:\n",
    "        x[i] = 1\n",
    "    return x"
   ]
  },
  {
   "cell_type": "code",
   "execution_count": 90,
   "metadata": {
    "ExecuteTime": {
     "end_time": "2020-03-04T22:52:16.110140Z",
     "start_time": "2020-03-04T22:52:16.041236Z"
    }
   },
   "outputs": [],
   "source": [
    "features_of_letters = []\n",
    "for sample in data:\n",
    "    word_indices = process_email(sample, False)\n",
    "    features_of_letters.append(email_features(word_indices))"
   ]
  },
  {
   "cell_type": "code",
   "execution_count": 87,
   "metadata": {
    "ExecuteTime": {
     "end_time": "2020-03-04T22:51:39.227508Z",
     "start_time": "2020-03-04T22:51:39.191895Z"
    }
   },
   "outputs": [
    {
     "name": "stdout",
     "output_type": "stream",
     "text": [
      "dict_keys(['__header__', '__version__', '__globals__', 'X', 'y'])\n",
      "dict_keys(['__header__', '__version__', '__globals__', 'Xtest', 'ytest'])\n"
     ]
    }
   ],
   "source": [
    "import scipy.io as sio\n",
    "train_data_path = 'spamTrain.mat'\n",
    "test_data_path = 'spamTest.mat'\n",
    "train_data = sio.loadmat(train_data_path)\n",
    "test_data = sio.loadmat(test_data_path)\n",
    "print(train_data.keys())\n",
    "print(test_data.keys())"
   ]
  },
  {
   "cell_type": "code",
   "execution_count": 88,
   "metadata": {
    "ExecuteTime": {
     "end_time": "2020-03-04T22:51:40.258064Z",
     "start_time": "2020-03-04T22:51:39.934745Z"
    }
   },
   "outputs": [
    {
     "name": "stdout",
     "output_type": "stream",
     "text": [
      "(4000, 1899) (1000, 1899)\n"
     ]
    }
   ],
   "source": [
    "X_train, y_train = train_data['X'], train_data['y']\n",
    "X_test, y_test = test_data['Xtest'], test_data['ytest']\n",
    "print(X_train.shape, X_test.shape)"
   ]
  },
  {
   "cell_type": "code",
   "execution_count": 95,
   "metadata": {
    "ExecuteTime": {
     "end_time": "2020-03-04T22:56:44.912292Z",
     "start_time": "2020-03-04T22:56:39.235993Z"
    }
   },
   "outputs": [
    {
     "name": "stdout",
     "output_type": "stream",
     "text": [
      "Accuracy:  0.989\n"
     ]
    }
   ],
   "source": [
    "clf = SVC(kernel='linear', C=0.1)\n",
    "clf.fit(X_train, y_train.ravel())\n",
    "pred = clf.predict(X_test)\n",
    "print(\"Accuracy: \", np.mean(pred == y_test.ravel()))"
   ]
  },
  {
   "cell_type": "code",
   "execution_count": 96,
   "metadata": {
    "ExecuteTime": {
     "end_time": "2020-03-04T22:56:46.010372Z",
     "start_time": "2020-03-04T22:56:45.999441Z"
    }
   },
   "outputs": [
    {
     "name": "stdout",
     "output_type": "stream",
     "text": [
      "[0 0 1 1]\n"
     ]
    }
   ],
   "source": [
    "print(clf.predict(features_of_letters))"
   ]
  },
  {
   "cell_type": "code",
   "execution_count": 144,
   "metadata": {
    "ExecuteTime": {
     "end_time": "2020-03-04T23:13:01.530494Z",
     "start_time": "2020-03-04T23:13:01.504127Z"
    }
   },
   "outputs": [
    {
     "name": "stdout",
     "output_type": "stream",
     "text": [
      "Top spam predictors:\n",
      "WORD         \tWEIGHT\n",
      "\n",
      "our         -\t0.5006137361746403\n",
      "click       -\t0.465916390688888\n",
      "remov       -\t0.42286911706104086\n",
      "guarante    -\t0.38362160179406524\n",
      "visit       -\t0.367710398245535\n",
      "basenumb    -\t0.3450640979461706\n",
      "dollar      -\t0.3236320357963838\n",
      "will        -\t0.2697241060374008\n",
      "price       -\t0.2672977146177071\n",
      "pleas       -\t0.2611688867001495\n",
      "most        -\t0.2572981979518164\n",
      "nbsp        -\t0.2539414551595324\n",
      "lo          -\t0.25346652431419925\n",
      "ga          -\t0.24829699045568662\n",
      "hour        -\t0.24640435783158998\n"
     ]
    }
   ],
   "source": [
    "most_important = np.argsort(clf.coef_.ravel())[-1:-16:-1]\n",
    "vocab_list = get_vocab_list()\n",
    "print(\"Top spam predictors:\")\n",
    "print(\"{0: <12} \\t{1}\".format(\"WORD\", \"WEIGHT\"), end=\"\\n\\n\")\n",
    "for i in most_important:\n",
    "    print(\"{0: <12}-\\t{1}\".format(vocab_list[i], clf.coef_.ravel()[i]))"
   ]
  },
  {
   "cell_type": "code",
   "execution_count": null,
   "metadata": {},
   "outputs": [],
   "source": []
  }
 ],
 "metadata": {
  "kernelspec": {
   "display_name": "Python 3",
   "language": "python",
   "name": "python3"
  },
  "language_info": {
   "codemirror_mode": {
    "name": "ipython",
    "version": 3
   },
   "file_extension": ".py",
   "mimetype": "text/x-python",
   "name": "python",
   "nbconvert_exporter": "python",
   "pygments_lexer": "ipython3",
   "version": "3.7.4"
  },
  "toc": {
   "base_numbering": 1,
   "nav_menu": {},
   "number_sections": true,
   "sideBar": true,
   "skip_h1_title": false,
   "title_cell": "Table of Contents",
   "title_sidebar": "Contents",
   "toc_cell": false,
   "toc_position": {},
   "toc_section_display": true,
   "toc_window_display": false
  },
  "varInspector": {
   "cols": {
    "lenName": 16,
    "lenType": 16,
    "lenVar": 40
   },
   "kernels_config": {
    "python": {
     "delete_cmd_postfix": "",
     "delete_cmd_prefix": "del ",
     "library": "var_list.py",
     "varRefreshCmd": "print(var_dic_list())"
    },
    "r": {
     "delete_cmd_postfix": ") ",
     "delete_cmd_prefix": "rm(",
     "library": "var_list.r",
     "varRefreshCmd": "cat(var_dic_list()) "
    }
   },
   "types_to_exclude": [
    "module",
    "function",
    "builtin_function_or_method",
    "instance",
    "_Feature"
   ],
   "window_display": false
  }
 },
 "nbformat": 4,
 "nbformat_minor": 2
}
