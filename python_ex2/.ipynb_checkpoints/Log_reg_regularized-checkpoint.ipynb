{
 "cells": [
  {
   "cell_type": "code",
   "execution_count": 1,
   "metadata": {
    "ExecuteTime": {
     "end_time": "2020-03-03T12:12:06.031538Z",
     "start_time": "2020-03-03T12:12:05.719516Z"
    }
   },
   "outputs": [],
   "source": [
    "import numpy as np\n",
    "import matplotlib.pyplot as plt\n",
    "import csv\n",
    "from scipy.optimize import minimize "
   ]
  },
  {
   "cell_type": "code",
   "execution_count": 2,
   "metadata": {
    "ExecuteTime": {
     "end_time": "2020-03-03T12:12:06.308548Z",
     "start_time": "2020-03-03T12:12:06.033288Z"
    }
   },
   "outputs": [
    {
     "name": "stdout",
     "output_type": "stream",
     "text": [
      "(162, 3)\n"
     ]
    },
    {
     "data": {
      "text/plain": [
       "array([[ 0.051267,  0.69956 ,  1.      ],\n",
       "       [-0.092742,  0.68494 ,  1.      ],\n",
       "       [-0.21371 ,  0.69225 ,  1.      ],\n",
       "       [-0.375   ,  0.50219 ,  1.      ],\n",
       "       [-0.51325 ,  0.46564 ,  1.      ]])"
      ]
     },
     "execution_count": 2,
     "metadata": {},
     "output_type": "execute_result"
    }
   ],
   "source": [
    "data_path = \"ex2data2.txt\"\n",
    "with open(data_path, \"r\", newline=\"\") as file:\n",
    "    reader = csv.reader(file)\n",
    "    data = np.array(list(reader), dtype=float)\n",
    "    \n",
    "print(data.shape)\n",
    "data[:5]"
   ]
  },
  {
   "cell_type": "code",
   "execution_count": 3,
   "metadata": {
    "ExecuteTime": {
     "end_time": "2020-03-03T12:12:06.382081Z",
     "start_time": "2020-03-03T12:12:06.311290Z"
    }
   },
   "outputs": [
    {
     "name": "stdout",
     "output_type": "stream",
     "text": [
      "(162, 2)\n",
      "(162, 1)\n"
     ]
    }
   ],
   "source": [
    "X = np.reshape(data[:,0:2], (-1,2))\n",
    "y = np.reshape(data[:,2], (-1,1))\n",
    "m = y.shape[0]\n",
    "print(X.shape)\n",
    "print(y.shape)"
   ]
  },
  {
   "cell_type": "code",
   "execution_count": 4,
   "metadata": {
    "ExecuteTime": {
     "end_time": "2020-03-03T12:12:06.787938Z",
     "start_time": "2020-03-03T12:12:06.383771Z"
    }
   },
   "outputs": [
    {
     "data": {
      "image/png": "[encoded data removed]",
      "text/plain": [
       "<Figure size 576x576 with 1 Axes>"
      ]
     },
     "metadata": {
      "needs_background": "light"
     },
     "output_type": "display_data"
    }
   ],
   "source": [
    "X_pos = X[np.where(y[:,0]==1)]\n",
    "X_neg = X[np.where(y[:,0]==0)]\n",
    "\n",
    "plt.figure(figsize=(8,8))\n",
    "plt.xlabel('Microchip 1 test')\n",
    "plt.ylabel('Microchip 2 test')\n",
    "plt.scatter(X_pos[:,0], X_pos[:,1], marker = '+', linewidth=10, s=5, c='b', label='Accepted)')\n",
    "plt.scatter(X_neg[:,0], X_neg[:,1], marker = 'x', linewidth=10, s=3, c='r', label='Rejected')\n",
    "plt.legend()\n",
    "plt.show()"
   ]
  },
  {
   "cell_type": "code",
   "execution_count": 5,
   "metadata": {
    "ExecuteTime": {
     "end_time": "2020-03-03T12:12:06.797751Z",
     "start_time": "2020-03-03T12:12:06.791009Z"
    }
   },
   "outputs": [],
   "source": [
    "def map_feature(x1, x2):\n",
    "    degree = 6\n",
    "    m = x1.shape[0]\n",
    "    out = np.ones((m, 1))\n",
    "    for i in range(1, degree+1):\n",
    "        for j in range(i+1):\n",
    "            new = (x1**(i-j))*(x2**j)\n",
    "            out = np.hstack([out, new.reshape([m, 1])])\n",
    "            \n",
    "    return out"
   ]
  },
  {
   "cell_type": "code",
   "execution_count": 6,
   "metadata": {
    "ExecuteTime": {
     "end_time": "2020-03-03T12:12:06.870364Z",
     "start_time": "2020-03-03T12:12:06.799448Z"
    }
   },
   "outputs": [
    {
     "name": "stdout",
     "output_type": "stream",
     "text": [
      "(162, 29)\n"
     ]
    }
   ],
   "source": [
    "X_1 = X.copy()\n",
    "X_1 = map_feature(X[:,0], X[:,1])\n",
    "X_1 = np.append(np.ones([m,1]), X_1, axis=1)\n",
    "\n",
    "print(X_1.shape)"
   ]
  },
  {
   "cell_type": "code",
   "execution_count": 7,
   "metadata": {
    "ExecuteTime": {
     "end_time": "2020-03-03T12:12:08.512163Z",
     "start_time": "2020-03-03T12:12:06.872561Z"
    }
   },
   "outputs": [
    {
     "data": {
      "text/plain": [
       "(162, 1)"
      ]
     },
     "execution_count": 7,
     "metadata": {},
     "output_type": "execute_result"
    }
   ],
   "source": [
    "y[0:].shape"
   ]
  },
  {
   "cell_type": "code",
   "execution_count": 8,
   "metadata": {
    "ExecuteTime": {
     "end_time": "2020-03-03T12:12:09.637603Z",
     "start_time": "2020-03-03T12:12:08.514921Z"
    }
   },
   "outputs": [
    {
     "data": {
      "text/plain": [
       "array([[0.5       , 0.73105858, 0.88079708],\n",
       "       [0.5       , 0.26894142, 0.11920292]])"
      ]
     },
     "execution_count": 8,
     "metadata": {},
     "output_type": "execute_result"
    }
   ],
   "source": [
    "def sigmoid(z):\n",
    "    return 1/(1 + np.exp(-z))\n",
    "\n",
    "sigmoid(np.array([[0, 1, 2],[0, -1, -2]]))"
   ]
  },
  {
   "cell_type": "markdown",
   "metadata": {},
   "source": [
    "### Computing Regularize Cost Function and Gradient\n",
    "\n",
    "$J(\\Theta) = \\frac{1}{m} \\sum_{i=1}^{m} [ -y^{(i)}log(h_{\\Theta}(x^{(i)})) - (1 - y^{(i)})log(1 - (h_{\\Theta}(x^{(i)}))] + \\frac{\\lambda}{2m} \\sum_{j=1}^n \\Theta_j^2$\n",
    "\n",
    "$ \\frac{\\partial J(\\Theta)}{\\partial \\Theta_j} = \\frac{1}{m} \\sum_{i=1}^{m} (h_{\\Theta}(x^{(i)}) - y^{(i)})x_j^{(i)}$ for $j=0$\n",
    "\n",
    "$ \\frac{\\partial J(\\Theta)}{\\partial \\Theta_j} = \\frac{1}{m} \\sum_{i=1}^{m} (h_{\\Theta}(x^{(i)}) - y^{(i)})x_j^{(i)} + \\frac{\\lambda}{m}\\Theta_j$ for $j\\geq 1$"
   ]
  },
  {
   "cell_type": "code",
   "execution_count": 9,
   "metadata": {
    "ExecuteTime": {
     "end_time": "2020-03-03T12:12:10.952603Z",
     "start_time": "2020-03-03T12:12:09.642902Z"
    }
   },
   "outputs": [],
   "source": [
    "def cost_func(theta, X, y, lamb):  \n",
    "    m=len(y)\n",
    "    inner_theta = np.expand_dims(theta, axis=1) #for J, not for h\n",
    "    h = sigmoid(X @ inner_theta)\n",
    "    J = (1/m) * (np.dot((-y.T), np.log(h)) - np.dot((1-y.T), np.log(1-h)))\n",
    "    reg_J = J + (lamb/(2*m))*np.dot(inner_theta[1:].T, inner_theta[1:])    \n",
    "    return reg_J[0]\n",
    "\n",
    "def grad_func(theta, X, y, lamb):\n",
    "    inner_theta = np.expand_dims(theta, axis=1)\n",
    "    m = y.shape[0]\n",
    "    h = sigmoid(X @ inner_theta)\n",
    "    grad = (1/m) * np.dot((h-y).T, X).T\n",
    "    grad[1:] += (lamb/m) * inner_theta[1:]\n",
    "    return grad[:,0]"
   ]
  },
  {
   "cell_type": "code",
   "execution_count": 10,
   "metadata": {
    "ExecuteTime": {
     "end_time": "2020-03-03T12:12:11.701919Z",
     "start_time": "2020-03-03T12:12:10.957803Z"
    }
   },
   "outputs": [
    {
     "name": "stdout",
     "output_type": "stream",
     "text": [
      "theta shape:  (29,)\n",
      "Cost at initial theta (zeros):\n",
      " [0.69314718]\n",
      "Gradient shape at initial theta (zeros):\n",
      " (29,)\n"
     ]
    }
   ],
   "source": [
    "m, n = X_1.shape\n",
    "\n",
    "initial_theta = np.zeros(n)\n",
    "print(\"theta shape: \", initial_theta.shape)\n",
    "lamb = 1e-5\n",
    "\n",
    "cost = cost_func(initial_theta, X_1, y, lamb)\n",
    "grad = grad_func(initial_theta, X_1, y, lamb)\n",
    "\n",
    "print('Cost at initial theta (zeros):\\n', cost)\n",
    "\n",
    "print('Gradient shape at initial theta (zeros):\\n', grad.shape)"
   ]
  },
  {
   "cell_type": "markdown",
   "metadata": {},
   "source": [
    "### Optimization using scipy's minimize"
   ]
  },
  {
   "cell_type": "code",
   "execution_count": 11,
   "metadata": {
    "ExecuteTime": {
     "end_time": "2020-03-03T12:12:11.845199Z",
     "start_time": "2020-03-03T12:12:11.703823Z"
    }
   },
   "outputs": [
    {
     "name": "stdout",
     "output_type": "stream",
     "text": [
      "Optimization terminated successfully.\n",
      "         Current function value: 0.248390\n",
      "         Iterations: 366\n",
      "         Function evaluations: 367\n",
      "         Gradient evaluations: 367\n"
     ]
    }
   ],
   "source": [
    "result = minimize(cost_func, initial_theta, method='BFGS', jac=grad_func,\n",
    "                  args=(X_1, y, lamb), options={'disp': True})"
   ]
  },
  {
   "cell_type": "code",
   "execution_count": 12,
   "metadata": {
    "ExecuteTime": {
     "end_time": "2020-03-03T12:12:11.850889Z",
     "start_time": "2020-03-03T12:12:11.847101Z"
    }
   },
   "outputs": [
    {
     "name": "stdout",
     "output_type": "stream",
     "text": [
      "Cost :\n",
      " [0.2483902]\n"
     ]
    }
   ],
   "source": [
    "print('Cost :\\n', cost_func(result.x, X_1, y, lamb))\n",
    "theta_1 = result.x"
   ]
  },
  {
   "cell_type": "code",
   "execution_count": 13,
   "metadata": {
    "ExecuteTime": {
     "end_time": "2020-03-03T12:12:11.920147Z",
     "start_time": "2020-03-03T12:12:11.853205Z"
    }
   },
   "outputs": [],
   "source": [
    "def predict(theta, X):\n",
    "    return np.around(sigmoid(X.dot(theta)))"
   ]
  },
  {
   "cell_type": "code",
   "execution_count": 14,
   "metadata": {
    "ExecuteTime": {
     "end_time": "2020-03-03T12:12:11.988471Z",
     "start_time": "2020-03-03T12:12:11.922565Z"
    }
   },
   "outputs": [
    {
     "name": "stdout",
     "output_type": "stream",
     "text": [
      "acc:  0.8950617283950617\n"
     ]
    }
   ],
   "source": [
    "pred = predict(result.x, X_1)\n",
    "print(\"acc: \", np.count_nonzero(pred == y[:,0])/m)"
   ]
  },
  {
   "cell_type": "markdown",
   "metadata": {},
   "source": [
    "### Optimization using handwritten gradient descent"
   ]
  },
  {
   "cell_type": "code",
   "execution_count": 15,
   "metadata": {
    "ExecuteTime": {
     "end_time": "2020-03-03T12:12:12.138249Z",
     "start_time": "2020-03-03T12:12:11.990789Z"
    }
   },
   "outputs": [
    {
     "name": "stdout",
     "output_type": "stream",
     "text": [
      "The regularized theta using ridge regression:\n",
      " [ 1.8175052   1.81743663  2.09477908  3.08434079 -4.89780602 -4.17854797\n",
      " -4.59820392  0.88932133 -1.57584559 -1.12011673  0.08943495 -4.03160346\n",
      "  0.06470719 -2.11177589 -1.39344199 -3.16820111 -0.55002846 -0.73012261\n",
      "  0.25923414 -1.14137581 -1.37878437 -0.15682544 -3.14631804  0.29121461\n",
      " -0.97764436  0.26766503 -1.23317603 -0.93843505 -1.79472772]\n",
      "Cost :\n",
      " [0.32497094]\n"
     ]
    }
   ],
   "source": [
    "def gradient_descent(X,y,theta,alpha,num_iters,lamb):\n",
    "    m=len(y)\n",
    "    J_history = []\n",
    "    \n",
    "    for i in range(num_iters):\n",
    "        cost = cost_func(theta, X, y, lamb)   \n",
    "        grad = grad_func(theta, X, y, lamb)\n",
    "        theta = theta - (alpha * grad)\n",
    "        J_history.append(cost)\n",
    "    \n",
    "    return theta, J_history\n",
    "\n",
    "\n",
    "theta_2, J_history = gradient_descent(X_1, y, initial_theta, 1, 800, lamb) #0.1, 1000, 1\n",
    "\n",
    "print(\"The regularized theta using ridge regression:\\n\",theta_2)\n",
    "print('Cost :\\n', cost_func(theta_2, X_1, y, lamb))"
   ]
  },
  {
   "cell_type": "code",
   "execution_count": 16,
   "metadata": {
    "ExecuteTime": {
     "end_time": "2020-03-03T12:12:12.150940Z",
     "start_time": "2020-03-03T12:12:12.140199Z"
    }
   },
   "outputs": [
    {
     "name": "stdout",
     "output_type": "stream",
     "text": [
      "acc:  0.8703703703703703\n"
     ]
    },
    {
     "data": {
      "text/plain": [
       "array([0.32497094])"
      ]
     },
     "execution_count": 16,
     "metadata": {},
     "output_type": "execute_result"
    }
   ],
   "source": [
    "pred = predict(theta_2, X_1)\n",
    "print(\"acc: \", np.count_nonzero(pred == y[:,0])/m)\n",
    "cost = cost_func(theta_2, X_1, y, lamb)\n",
    "cost"
   ]
  },
  {
   "cell_type": "code",
   "execution_count": 17,
   "metadata": {
    "ExecuteTime": {
     "end_time": "2020-03-03T12:12:12.750828Z",
     "start_time": "2020-03-03T12:12:12.152822Z"
    }
   },
   "outputs": [
    {
     "data": {
      "image/png": "[encoded data removed]",
      "text/plain": [
       "<Figure size 432x288 with 1 Axes>"
      ]
     },
     "metadata": {
      "needs_background": "light"
     },
     "output_type": "display_data"
    }
   ],
   "source": [
    "plt.plot(J_history)\n",
    "plt.xlabel('Num of iteration')\n",
    "plt.ylabel('Loss')\n",
    "plt.show()"
   ]
  },
  {
   "cell_type": "code",
   "execution_count": 18,
   "metadata": {
    "ExecuteTime": {
     "end_time": "2020-03-03T12:12:14.024774Z",
     "start_time": "2020-03-03T12:12:12.752335Z"
    }
   },
   "outputs": [
    {
     "data": {
      "image/png": "[encoded data removed]",
      "text/plain": [
       "<Figure size 1080x576 with 2 Axes>"
      ]
     },
     "metadata": {
      "needs_background": "light"
     },
     "output_type": "display_data"
    }
   ],
   "source": [
    "def mapFeaturePlot(x1,x2,degree):\n",
    "    out = np.ones(1)\n",
    "    for i in range(1,degree+1):\n",
    "        for j in range(i+1):\n",
    "            terms = (x1**(i-j) * x2**j)\n",
    "            out = np.hstack((out,terms))\n",
    "    out = np.insert(out, 0, 1, axis=0)\n",
    "    return out\n",
    "\n",
    "u_vals = np.linspace(-1,1.5,50)\n",
    "v_vals = np.linspace(-1,1.5,50)\n",
    "z_1 = np.zeros((len(u_vals),len(v_vals)))\n",
    "z_2 = np.zeros((len(u_vals),len(v_vals)))\n",
    "for i in range(len(u_vals)):\n",
    "    for j in range(len(v_vals)):\n",
    "        map_feat = mapFeaturePlot(u_vals[i],v_vals[j],6)\n",
    "        z_1[i,j] = map_feat @ theta_1\n",
    "        z_2[i,j] = map_feat @ theta_2\n",
    "        \n",
    "z = [z_1, z_2]\n",
    "plt.figure(figsize=(15,8))\n",
    "for i in range(2):\n",
    "    plt.subplot(1, 2, i+1)\n",
    "    plt.xlabel('Microchip 1 test')\n",
    "    plt.ylabel('Microchip 2 test')\n",
    "    plt.scatter(X_pos[:,0], X_pos[:,1], marker = '+', c='r', label='Accepted)')\n",
    "    plt.scatter(X_neg[:,0], X_neg[:,1], marker = 'x', c='b', label='Rejected')\n",
    "\n",
    "    plt.contour(u_vals,v_vals,z[i].T,0)\n",
    "    plt.xlabel(\"Exam 1 score\")\n",
    "    plt.ylabel(\"Exam 2 score\")\n",
    "    plt.legend(loc=0)\n",
    "\n",
    "plt.show()"
   ]
  },
  {
   "cell_type": "markdown",
   "metadata": {},
   "source": [
    "# Lasso Regression\n",
    "\n",
    "$J(\\Theta) = \\frac{1}{m} \\sum_{i=1}^{m} [ -y^{(i)}log(h_{\\Theta}(x^{(i)})) - (1 - y^{(i)})log(1 - (h_{\\Theta}(x^{(i)}))] + \\frac{\\lambda}{2m} \\sum_{j=1}^n |\\Theta_j|$"
   ]
  },
  {
   "cell_type": "code",
   "execution_count": 19,
   "metadata": {
    "ExecuteTime": {
     "end_time": "2020-03-03T12:12:17.299421Z",
     "start_time": "2020-03-03T12:12:14.027237Z"
    }
   },
   "outputs": [
    {
     "name": "stdout",
     "output_type": "stream",
     "text": [
      "The regularized theta using lasso regression:\n",
      " [[ 0.59306587]\n",
      " [ 1.54594637]\n",
      " [ 0.99049697]\n",
      " [ 1.5203491 ]\n",
      " [-5.0533112 ]\n",
      " [-2.81225551]\n",
      " [-3.45668827]\n",
      " [ 0.        ]\n",
      " [ 0.        ]\n",
      " [ 0.        ]\n",
      " [ 0.        ]\n",
      " [-1.31980007]\n",
      " [ 0.        ]\n",
      " [ 0.        ]\n",
      " [ 0.        ]\n",
      " [-2.03164019]\n",
      " [ 0.        ]\n",
      " [ 0.        ]\n",
      " [ 0.        ]\n",
      " [ 0.        ]\n",
      " [ 0.        ]\n",
      " [ 0.        ]\n",
      " [ 0.        ]\n",
      " [ 0.        ]\n",
      " [ 0.        ]\n",
      " [ 0.        ]\n",
      " [ 0.        ]\n",
      " [ 0.        ]\n",
      " [ 0.        ]]\n"
     ]
    },
    {
     "name": "stderr",
     "output_type": "stream",
     "text": [
      "/home/misha/anaconda3/lib/python3.7/site-packages/sklearn/linear_model/logistic.py:432: FutureWarning: Default solver will be changed to 'lbfgs' in 0.22. Specify a solver to silence this warning.\n",
      "  FutureWarning)\n",
      "/home/misha/anaconda3/lib/python3.7/site-packages/sklearn/utils/validation.py:724: DataConversionWarning: A column-vector y was passed when a 1d array was expected. Please change the shape of y to (n_samples, ), for example using ravel().\n",
      "  y = column_or_1d(y, warn=True)\n"
     ]
    }
   ],
   "source": [
    "from sklearn.linear_model import LogisticRegression\n",
    "\n",
    "clf = LogisticRegression(penalty=\"l1\")\n",
    "clf.fit(X_1,y)\n",
    "\n",
    "theta_lasso=clf.coef_\n",
    "print(\"The regularized theta using lasso regression:\\n\",\n",
    "      theta_lasso.reshape(29,1))"
   ]
  },
  {
   "cell_type": "code",
   "execution_count": 20,
   "metadata": {
    "ExecuteTime": {
     "end_time": "2020-03-03T12:12:17.307507Z",
     "start_time": "2020-03-03T12:12:17.301392Z"
    }
   },
   "outputs": [
    {
     "name": "stdout",
     "output_type": "stream",
     "text": [
      "acc:  86.18518518518519\n"
     ]
    }
   ],
   "source": [
    "pred = predict(theta_lasso.T, X_1)\n",
    "print(\"acc: \", np.count_nonzero(pred == y[:,0])/m)"
   ]
  },
  {
   "cell_type": "code",
   "execution_count": null,
   "metadata": {},
   "outputs": [],
   "source": []
  }
 ],
 "metadata": {
  "kernelspec": {
   "display_name": "Python 3",
   "language": "python",
   "name": "python3"
  },
  "language_info": {
   "codemirror_mode": {
    "name": "ipython",
    "version": 3
   },
   "file_extension": ".py",
   "mimetype": "text/x-python",
   "name": "python",
   "nbconvert_exporter": "python",
   "pygments_lexer": "ipython3",
   "version": "3.7.4"
  },
  "toc": {
   "base_numbering": 1,
   "nav_menu": {},
   "number_sections": true,
   "sideBar": true,
   "skip_h1_title": false,
   "title_cell": "Table of Contents",
   "title_sidebar": "Contents",
   "toc_cell": false,
   "toc_position": {},
   "toc_section_display": true,
   "toc_window_display": false
  },
  "varInspector": {
   "cols": {
    "lenName": 16,
    "lenType": 16,
    "lenVar": 40
   },
   "kernels_config": {
    "python": {
     "delete_cmd_postfix": "",
     "delete_cmd_prefix": "del ",
     "library": "var_list.py",
     "varRefreshCmd": "print(var_dic_list())"
    },
    "r": {
     "delete_cmd_postfix": ") ",
     "delete_cmd_prefix": "rm(",
     "library": "var_list.r",
     "varRefreshCmd": "cat(var_dic_list()) "
    }
   },
   "types_to_exclude": [
    "module",
    "function",
    "builtin_function_or_method",
    "instance",
    "_Feature"
   ],
   "window_display": false
  }
 },
 "nbformat": 4,
 "nbformat_minor": 2
}
