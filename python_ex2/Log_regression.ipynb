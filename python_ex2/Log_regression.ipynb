{
 "cells": [
  {
   "cell_type": "code",
   "execution_count": 3,
   "metadata": {
    "ExecuteTime": {
     "end_time": "2020-03-03T12:13:13.527350Z",
     "start_time": "2020-03-03T12:13:13.520672Z"
    }
   },
   "outputs": [],
   "source": [
    "import numpy as np\n",
    "import matplotlib.pyplot as plt\n",
    "import csv\n",
    "from scipy.optimize import minimize "
   ]
  },
  {
   "cell_type": "code",
   "execution_count": 4,
   "metadata": {
    "ExecuteTime": {
     "end_time": "2020-03-03T12:13:14.739426Z",
     "start_time": "2020-03-03T12:13:13.529547Z"
    }
   },
   "outputs": [
    {
     "data": {
      "text/plain": [
       "(100, 3)"
      ]
     },
     "execution_count": 4,
     "metadata": {},
     "output_type": "execute_result"
    }
   ],
   "source": [
    "data_path = \"ex2data1.txt\"\n",
    "with open(data_path, \"r\", newline=\"\") as file:\n",
    "    reader = csv.reader(file)\n",
    "    data = np.array(list(reader), dtype=float)\n",
    "\n",
    "data.shape"
   ]
  },
  {
   "cell_type": "code",
   "execution_count": 5,
   "metadata": {
    "ExecuteTime": {
     "end_time": "2020-03-03T12:13:14.831332Z",
     "start_time": "2020-03-03T12:13:14.743210Z"
    }
   },
   "outputs": [
    {
     "name": "stdout",
     "output_type": "stream",
     "text": [
      "(100, 3)\n",
      "(100, 1)\n"
     ]
    }
   ],
   "source": [
    "X = np.reshape(data[:,0:2], (-1,2))\n",
    "y = np.reshape(data[:,2], (-1,1))\n",
    "m = y.shape[0]\n",
    "X = np.append(np.ones([m,1]), X, axis=1)\n",
    "print(X.shape)\n",
    "print(y.shape)"
   ]
  },
  {
   "cell_type": "code",
   "execution_count": 6,
   "metadata": {
    "ExecuteTime": {
     "end_time": "2020-03-03T12:13:15.125962Z",
     "start_time": "2020-03-03T12:13:14.835599Z"
    }
   },
   "outputs": [
    {
     "data": {
      "image/png": "[encoded data removed]",
      "text/plain": [
       "<Figure size 720x576 with 1 Axes>"
      ]
     },
     "metadata": {
      "needs_background": "light"
     },
     "output_type": "display_data"
    }
   ],
   "source": [
    "X_pos = X[np.where(y[:,0]==1)]\n",
    "X_neg = X[np.where(y[:,0]==0)]\n",
    "\n",
    "plt.figure(figsize=(10,8))\n",
    "plt.xlabel('Exam 1 score')\n",
    "plt.ylabel('Exam 2 score')\n",
    "plt.scatter(X_pos[:,1], X_pos[:,2], marker = '+', linewidth=10, s=5, c='b', label='Admitted')\n",
    "plt.scatter(X_neg[:,1], X_neg[:,2], marker = 'x', linewidth=10, s=3, c='r', label='Not admitted')\n",
    "plt.legend()\n",
    "plt.show()"
   ]
  },
  {
   "cell_type": "code",
   "execution_count": 7,
   "metadata": {
    "ExecuteTime": {
     "end_time": "2020-03-03T12:13:15.136261Z",
     "start_time": "2020-03-03T12:13:15.128869Z"
    }
   },
   "outputs": [
    {
     "data": {
      "text/plain": [
       "array([[0.5       , 0.73105858, 0.88079708],\n",
       "       [0.5       , 0.26894142, 0.11920292]])"
      ]
     },
     "execution_count": 7,
     "metadata": {},
     "output_type": "execute_result"
    }
   ],
   "source": [
    "def sigmoid(z):\n",
    "    return 1/(1 + np.exp(-z))\n",
    "\n",
    "sigmoid(np.array([[0, 1, 2],[0, -1, -2]]))"
   ]
  },
  {
   "cell_type": "code",
   "execution_count": 8,
   "metadata": {
    "ExecuteTime": {
     "end_time": "2020-03-03T12:13:15.205390Z",
     "start_time": "2020-03-03T12:13:15.139671Z"
    }
   },
   "outputs": [],
   "source": [
    "def cost_func(theta, X, y):  \n",
    "    inner_theta = np.expand_dims(theta, axis=1)\n",
    "    m = y.shape[0]\n",
    "    z = X.dot(inner_theta)\n",
    "    h = sigmoid(z)\n",
    "    J = (1/m) * (np.dot((-y.T), np.log(h)) - np.dot((1-y.T), np.log(1-h)))\n",
    "    \n",
    "    return J[0]\n",
    "\n",
    "def grad_func(theta, X, y):\n",
    "    inner_theta = np.expand_dims(theta, axis=1)\n",
    "    m = y.shape[0]\n",
    "    z = X.dot(inner_theta)\n",
    "    h = sigmoid(z)\n",
    "    grad = (1/m) * np.dot((h-y).T, X).T\n",
    "    theta.shape = (3,)\n",
    "    \n",
    "    return grad[:,0]"
   ]
  },
  {
   "cell_type": "code",
   "execution_count": 9,
   "metadata": {
    "ExecuteTime": {
     "end_time": "2020-03-03T12:13:15.274443Z",
     "start_time": "2020-03-03T12:13:15.208028Z"
    }
   },
   "outputs": [
    {
     "name": "stdout",
     "output_type": "stream",
     "text": [
      "Cost at initial theta (zeros):\n",
      " [0.69314718]\n",
      "Gradient at initial theta (zeros):\n",
      " [ -0.1        -12.00921659 -11.26284221]\n"
     ]
    }
   ],
   "source": [
    "m, n = X.shape\n",
    "\n",
    "initial_theta = np.zeros(n)\n",
    "\n",
    "cost = cost_func(initial_theta, X, y)\n",
    "grad = grad_func(initial_theta, X, y)\n",
    "\n",
    "print('Cost at initial theta (zeros):\\n', cost)\n",
    "\n",
    "print('Gradient at initial theta (zeros):\\n', grad)"
   ]
  },
  {
   "cell_type": "code",
   "execution_count": 10,
   "metadata": {
    "ExecuteTime": {
     "end_time": "2020-03-03T12:13:15.388290Z",
     "start_time": "2020-03-03T12:13:15.279444Z"
    },
    "scrolled": true
   },
   "outputs": [
    {
     "name": "stdout",
     "output_type": "stream",
     "text": [
      "Optimization terminated successfully.\n",
      "         Current function value: 0.203498\n",
      "         Iterations: 23\n",
      "         Function evaluations: 31\n",
      "         Gradient evaluations: 31\n"
     ]
    },
    {
     "name": "stderr",
     "output_type": "stream",
     "text": [
      "/home/misha/anaconda3/lib/python3.7/site-packages/ipykernel_launcher.py:6: RuntimeWarning: divide by zero encountered in log\n",
      "  \n"
     ]
    },
    {
     "data": {
      "text/plain": [
       "      fun: 0.20349770158944375\n",
       " hess_inv: array([[ 3.31474479e+03, -2.63892205e+01, -2.70237122e+01],\n",
       "       [-2.63892205e+01,  2.23869433e-01,  2.02682332e-01],\n",
       "       [-2.70237122e+01,  2.02682332e-01,  2.35335117e-01]])\n",
       "      jac: array([-9.52476824e-09, -9.31921320e-07, -2.82608931e-07])\n",
       "  message: 'Optimization terminated successfully.'\n",
       "     nfev: 31\n",
       "      nit: 23\n",
       "     njev: 31\n",
       "   status: 0\n",
       "  success: True\n",
       "        x: array([-25.16133284,   0.2062317 ,   0.2014716 ])"
      ]
     },
     "execution_count": 10,
     "metadata": {},
     "output_type": "execute_result"
    }
   ],
   "source": [
    "result = minimize(cost_func, initial_theta, method='BFGS', jac=grad_func,\n",
    "                  args=(X, y), options={'disp': True})\n",
    "\n",
    "result"
   ]
  },
  {
   "cell_type": "code",
   "execution_count": 11,
   "metadata": {
    "ExecuteTime": {
     "end_time": "2020-03-03T12:13:15.506388Z",
     "start_time": "2020-03-03T12:13:15.391536Z"
    }
   },
   "outputs": [
    {
     "name": "stdout",
     "output_type": "stream",
     "text": [
      "Cost :\n",
      " [0.2034977]\n"
     ]
    }
   ],
   "source": [
    "print('Cost :\\n', cost_func(result.x, X, y))"
   ]
  },
  {
   "cell_type": "code",
   "execution_count": 12,
   "metadata": {
    "ExecuteTime": {
     "end_time": "2020-03-03T12:13:15.572918Z",
     "start_time": "2020-03-03T12:13:15.509700Z"
    }
   },
   "outputs": [],
   "source": [
    "def predict(theta, X):\n",
    "    return np.around(sigmoid(X.dot(theta)))"
   ]
  },
  {
   "cell_type": "code",
   "execution_count": 13,
   "metadata": {
    "ExecuteTime": {
     "end_time": "2020-03-03T12:13:15.639725Z",
     "start_time": "2020-03-03T12:13:15.574936Z"
    }
   },
   "outputs": [
    {
     "name": "stdout",
     "output_type": "stream",
     "text": [
      "acc:  0.89\n"
     ]
    }
   ],
   "source": [
    "pred = predict(result.x, X)\n",
    "print(\"acc: \", np.count_nonzero(pred == y[:,0])/m)"
   ]
  },
  {
   "cell_type": "code",
   "execution_count": null,
   "metadata": {},
   "outputs": [],
   "source": []
  }
 ],
 "metadata": {
  "kernelspec": {
   "display_name": "Python 3",
   "language": "python",
   "name": "python3"
  },
  "language_info": {
   "codemirror_mode": {
    "name": "ipython",
    "version": 3
   },
   "file_extension": ".py",
   "mimetype": "text/x-python",
   "name": "python",
   "nbconvert_exporter": "python",
   "pygments_lexer": "ipython3",
   "version": "3.7.4"
  },
  "toc": {
   "base_numbering": 1,
   "nav_menu": {},
   "number_sections": true,
   "sideBar": true,
   "skip_h1_title": false,
   "title_cell": "Table of Contents",
   "title_sidebar": "Contents",
   "toc_cell": false,
   "toc_position": {},
   "toc_section_display": true,
   "toc_window_display": false
  },
  "varInspector": {
   "cols": {
    "lenName": 16,
    "lenType": 16,
    "lenVar": 40
   },
   "kernels_config": {
    "python": {
     "delete_cmd_postfix": "",
     "delete_cmd_prefix": "del ",
     "library": "var_list.py",
     "varRefreshCmd": "print(var_dic_list())"
    },
    "r": {
     "delete_cmd_postfix": ") ",
     "delete_cmd_prefix": "rm(",
     "library": "var_list.r",
     "varRefreshCmd": "cat(var_dic_list()) "
    }
   },
   "types_to_exclude": [
    "module",
    "function",
    "builtin_function_or_method",
    "instance",
    "_Feature"
   ],
   "window_display": false
  }
 },
 "nbformat": 4,
 "nbformat_minor": 2
}
